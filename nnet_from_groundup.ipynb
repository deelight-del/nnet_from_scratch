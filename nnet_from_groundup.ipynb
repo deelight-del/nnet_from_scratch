{
  "nbformat": 4,
  "nbformat_minor": 0,
  "metadata": {
    "colab": {
      "provenance": [],
      "collapsed_sections": []
    },
    "kernelspec": {
      "name": "python3",
      "display_name": "Python 3"
    },
    "language_info": {
      "name": "python"
    },
    "gpuClass": "standard"
  },
  "cells": [
    {
      "cell_type": "markdown",
      "source": [
        "## Doing Neural Nets from scratch using classification between digits 6 and digits 2 Image Classifier"
      ],
      "metadata": {
        "id": "ysulUcvHKgf3"
      }
    },
    {
      "cell_type": "markdown",
      "source": [
        "Deep Learning can be taunting especially with the name and various jargon associated with the field. Today, after reading through [fastai chapter 4 notebook](https://colab.research.google.com/github/fastai/fastbook/blob/master/04_mnist_basics.ipynb) on deep learning taught by Jeremy Howard on YouTube via this [link](https://course.fast.ai/Lessons/lesson3.html) as neural net foundations, I decided to go through the model building from scratch. The data for this project was obtained from Fastai URLs class.\n",
        "\n",
        "**What are deep learning models?** Deep learning models are functions. Functions that do a specific thing. However, unlike normal functions that does a speicific task as defined by the programmer, deep learning models actually learn from the input itself and gives an output based on the parameters that it has learnt from the input. These parameters (and some other things) are what is stored in a deep learning model when you export it and use it for some sort of predictions. These parameters also called `weights and biases` are usually matrices of numbers that possess an extra function of being adjustable during the training/learning process. \n",
        "\n",
        "What I will be trying to do in this notebook will be to explain how neural nets work possibly in an intermediate or high level(less complicated) manner while avoiding as many jargons as possible.\n",
        "\n",
        "According to fastai chapter 4 notebook, there are seven steps, which I compress to six steps involved in building a neural network (neural net)/ deep learning model (DL model) and they are as follows:\n",
        "1. Initialize random model parameters\n",
        "2. Use the model to make prediction.\n",
        "3. Calculate the loss obtained by comparing the prediction with the actual targets using a selected loss function.\n",
        "4. Based on the loss function, calculate the gradients for each parameters.\n",
        "5. Step the parameters using the gradients obtained above.\n",
        "6. Repeat step 2 to 5 until you obtain desired result or time constraints.\n",
        "\n",
        "These steps will form the architecture of our entire process and also serves as the foundation of the building deep learning models. Each single step can be thus be made more complicated depending on the interest of the person, the challenge that is faced or other factors. My job here will be to use the simplest tools that I am familiar with while using fastai framework that is built on top of pytorch.\n",
        "\n",
        "Before we begin delving straight into working with the deep learning. We need a dataset to work with. As explained above the dataset has been obtained from zindi and will thus be used. Since we will be using simple neural networks, some few things are important for the images that we are working with.\n",
        "1. They should be of the same size and\n",
        "2. In order to save space and time for many of the matrix computations that we will be doing, we will need to convert our pictures to black and white."
      ],
      "metadata": {
        "id": "3MHqh8a5JFKt"
      }
    },
    {
      "cell_type": "code",
      "source": [
        "from google.colab import drive\n",
        "drive.mount('/content/gdrive', force_remount=True)"
      ],
      "metadata": {
        "colab": {
          "base_uri": "https://localhost:8080/"
        },
        "id": "gO1hMvRHnMoA",
        "outputId": "3732ba8c-b988-4675-df32-dad0dad5a458"
      },
      "execution_count": 1,
      "outputs": [
        {
          "output_type": "stream",
          "name": "stdout",
          "text": [
            "Mounted at /content/gdrive\n"
          ]
        }
      ]
    },
    {
      "cell_type": "code",
      "execution_count": 2,
      "metadata": {
        "colab": {
          "base_uri": "https://localhost:8080/"
        },
        "id": "mHT991zYJBD4",
        "outputId": "0397afbd-0358-4db5-b61c-45b0a0685474"
      },
      "outputs": [
        {
          "output_type": "stream",
          "name": "stdout",
          "text": [
            "\u001b[K     |████████████████████████████████| 719 kB 4.1 MB/s \n",
            "\u001b[K     |████████████████████████████████| 365 kB 37.1 MB/s \n",
            "\u001b[K     |████████████████████████████████| 4.9 MB 49.9 MB/s \n",
            "\u001b[K     |████████████████████████████████| 1.3 MB 53.9 MB/s \n",
            "\u001b[K     |████████████████████████████████| 212 kB 8.1 MB/s \n",
            "\u001b[K     |████████████████████████████████| 120 kB 59.5 MB/s \n",
            "\u001b[K     |████████████████████████████████| 115 kB 54.2 MB/s \n",
            "\u001b[K     |████████████████████████████████| 127 kB 53.2 MB/s \n",
            "\u001b[K     |████████████████████████████████| 6.6 MB 43.8 MB/s \n",
            "\u001b[?25h"
          ]
        }
      ],
      "source": [
        "!pip install -Uqq fastbook\n",
        "import fastbook\n",
        "fastbook.setup_book()\n",
        "\n",
        "from fastai.vision.all import *\n",
        "from fastbook import *\n",
        "\n",
        "matplotlib.rc('image', cmap='Greys')"
      ]
    },
    {
      "cell_type": "markdown",
      "source": [
        "### Gathering Data.\n",
        "\n",
        "Since the dataset is already downloaded on my drive, I will thus proceed to load the dataset and divide it into a traing and validation set."
      ],
      "metadata": {
        "id": "KKWT1vD3YrVY"
      }
    },
    {
      "cell_type": "code",
      "source": [
        "path = untar_data(URLs.MNIST)"
      ],
      "metadata": {
        "colab": {
          "base_uri": "https://localhost:8080/",
          "height": 37
        },
        "id": "RIzRsdLDJIu6",
        "outputId": "11b76449-b65c-45bc-c807-8c56ff101095"
      },
      "execution_count": 3,
      "outputs": [
        {
          "output_type": "display_data",
          "data": {
            "text/plain": [
              "<IPython.core.display.HTML object>"
            ],
            "text/html": [
              "\n",
              "<style>\n",
              "    /* Turns off some styling */\n",
              "    progress {\n",
              "        /* gets rid of default border in Firefox and Opera. */\n",
              "        border: none;\n",
              "        /* Needs to be in here for Safari polyfill so background images work as expected. */\n",
              "        background-size: auto;\n",
              "    }\n",
              "    progress:not([value]), progress:not([value])::-webkit-progress-bar {\n",
              "        background: repeating-linear-gradient(45deg, #7e7e7e, #7e7e7e 10px, #5c5c5c 10px, #5c5c5c 20px);\n",
              "    }\n",
              "    .progress-bar-interrupted, .progress-bar-interrupted::-webkit-progress-bar {\n",
              "        background: #F44336;\n",
              "    }\n",
              "</style>\n"
            ]
          },
          "metadata": {}
        },
        {
          "output_type": "display_data",
          "data": {
            "text/plain": [
              "<IPython.core.display.HTML object>"
            ],
            "text/html": [
              "\n",
              "    <div>\n",
              "      <progress value='15687680' class='' max='15683414' style='width:300px; height:20px; vertical-align: middle;'></progress>\n",
              "      100.03% [15687680/15683414 00:00&lt;00:00]\n",
              "    </div>\n",
              "    "
            ]
          },
          "metadata": {}
        }
      ]
    },
    {
      "cell_type": "code",
      "source": [
        "print((path/\"training\").ls().sorted()[:7])\n",
        "print((path/\"testing\").ls().sorted()[:7])\n",
        "#Select the first two objects in the list which are directories for images 2 and images 6"
      ],
      "metadata": {
        "colab": {
          "base_uri": "https://localhost:8080/"
        },
        "id": "sa7_DHZw6bt-",
        "outputId": "b6e69c5b-2895-4495-f33d-f3de324fbe36"
      },
      "execution_count": 4,
      "outputs": [
        {
          "output_type": "stream",
          "name": "stdout",
          "text": [
            "[Path('/root/.fastai/data/mnist_png/training/0'), Path('/root/.fastai/data/mnist_png/training/1'), Path('/root/.fastai/data/mnist_png/training/2'), Path('/root/.fastai/data/mnist_png/training/3'), Path('/root/.fastai/data/mnist_png/training/4'), Path('/root/.fastai/data/mnist_png/training/5'), Path('/root/.fastai/data/mnist_png/training/6')]\n",
            "[Path('/root/.fastai/data/mnist_png/testing/0'), Path('/root/.fastai/data/mnist_png/testing/1'), Path('/root/.fastai/data/mnist_png/testing/2'), Path('/root/.fastai/data/mnist_png/testing/3'), Path('/root/.fastai/data/mnist_png/testing/4'), Path('/root/.fastai/data/mnist_png/testing/5'), Path('/root/.fastai/data/mnist_png/testing/6')]\n"
          ]
        }
      ]
    },
    {
      "cell_type": "code",
      "source": [
        "train_dir = (path/\"training\").ls().sorted()[:7] #Subset to extract 6 and 2 images\n",
        "valid_dir = (path/\"testing\").ls().sorted()[:7]"
      ],
      "metadata": {
        "id": "NLpx-FpcJI4S"
      },
      "execution_count": 5,
      "outputs": []
    },
    {
      "cell_type": "code",
      "source": [
        "six_images = train_dir[-1].ls() #obtain files in `six` images\n",
        "two_images = train_dir[2].ls()  #obtain files in `two` images"
      ],
      "metadata": {
        "id": "ePM2alcZJI7O"
      },
      "execution_count": 6,
      "outputs": []
    },
    {
      "cell_type": "code",
      "source": [
        "six_valid = valid_dir[-1].ls()\n",
        "two_valid = valid_dir[2].ls()"
      ],
      "metadata": {
        "id": "HseEAV0GU8Ik"
      },
      "execution_count": 7,
      "outputs": []
    },
    {
      "cell_type": "markdown",
      "source": [
        "We already obtained the images data that we need to classify if an image is a 6 or a 2. The images need to be in the form of a dataset where the independent variable is a **vector** of each image and the dependent variable(our target) is label as \"6\" or \"2\".\n",
        "\n",
        "The kind of images that we are dealing with are black and white kind of images that can be represented as 2D arrays as we will see below.\n",
        "\n",
        "We procced to obtain vectors of each image and then join both six and two images to form our training set. The labels are also obtained and a dataset kind of object is formed by zipping both independent and dependent variables together. Talking about dependent variables, we will asssign `6` with 1 and `2` with 0. I.e. thse model will call true(1) when it is 6 and will call false when it is 2\n",
        "\n",
        "The same applies for the validation data"
      ],
      "metadata": {
        "id": "Tx6srFYr3yQk"
      }
    },
    {
      "cell_type": "code",
      "source": [
        "print(\"Shape of a typical image 6 is:\", tensor(Image.open(six_images[0])).shape)\n",
        "print(\"Shape of a typical image 2 is:\", tensor(Image.open(two_images[0])).shape)"
      ],
      "metadata": {
        "colab": {
          "base_uri": "https://localhost:8080/"
        },
        "id": "WyvztVbM8SNU",
        "outputId": "bbdc0884-193b-4181-9a4e-af4548d40f8b"
      },
      "execution_count": 8,
      "outputs": [
        {
          "output_type": "stream",
          "name": "stdout",
          "text": [
            "Shape of a typical image 6 is: torch.Size([28, 28])\n",
            "Shape of a typical image 2 is: torch.Size([28, 28])\n"
          ]
        }
      ]
    },
    {
      "cell_type": "code",
      "source": [
        "#Random opening of images\n",
        "Image.open(two_images[5])"
      ],
      "metadata": {
        "colab": {
          "base_uri": "https://localhost:8080/",
          "height": 45
        },
        "id": "Cw7G4Idu9FdJ",
        "outputId": "69a96b0c-b900-4a52-9d97-bf8d6cafcbd2"
      },
      "execution_count": 9,
      "outputs": [
        {
          "output_type": "execute_result",
          "data": {
            "text/plain": [
              "<PIL.PngImagePlugin.PngImageFile image mode=L size=28x28>"
            ],
            "image/png": "[encoded data removed]"
          },
          "metadata": {},
          "execution_count": 9
        }
      ]
    },
    {
      "cell_type": "code",
      "source": [
        "Image.open(six_images[5])"
      ],
      "metadata": {
        "colab": {
          "base_uri": "https://localhost:8080/",
          "height": 45
        },
        "id": "V1heBF9689Hm",
        "outputId": "49b34197-18a4-445b-b67b-3f93da533bb2"
      },
      "execution_count": 10,
      "outputs": [
        {
          "output_type": "execute_result",
          "data": {
            "text/plain": [
              "<PIL.PngImagePlugin.PngImageFile image mode=L size=28x28>"
            ],
            "image/png": "[encoded data removed]"
          },
          "metadata": {},
          "execution_count": 10
        }
      ]
    },
    {
      "cell_type": "code",
      "source": [
        "torch.stack([tensor(Image.open(six_images[0])).view(-1, 28*28),\n",
        "             tensor(Image.open(six_images[1])).view(-1, 28*28)]).squeeze(1).shape"
      ],
      "metadata": {
        "colab": {
          "base_uri": "https://localhost:8080/"
        },
        "id": "z4sDRTSb0NQ_",
        "outputId": "5c625b65-1956-45e4-d0ab-e15041580a8d"
      },
      "execution_count": 11,
      "outputs": [
        {
          "output_type": "execute_result",
          "data": {
            "text/plain": [
              "torch.Size([2, 784])"
            ]
          },
          "metadata": {},
          "execution_count": 11
        }
      ]
    },
    {
      "cell_type": "code",
      "source": [
        "six_vectors = (torch.stack([tensor(Image.open(i))\n",
        ".view(-1, 28*28) for i in six_images])\n",
        ".squeeze(1)).float()/255\n",
        "\n",
        "six_vectors.shape"
      ],
      "metadata": {
        "colab": {
          "base_uri": "https://localhost:8080/"
        },
        "id": "A3iTEKyuJI-c",
        "outputId": "a5ac9209-92c3-41fc-e9f6-9027037128e7"
      },
      "execution_count": 12,
      "outputs": [
        {
          "output_type": "execute_result",
          "data": {
            "text/plain": [
              "torch.Size([5918, 784])"
            ]
          },
          "metadata": {},
          "execution_count": 12
        }
      ]
    },
    {
      "cell_type": "code",
      "source": [
        "two_vectors = (torch.stack([tensor(Image.open(i))\n",
        ".view(-1, 28*28) for i in two_images])\n",
        ".squeeze(1)).float()/255\n",
        "\n",
        "\n",
        "two_vectors.shape"
      ],
      "metadata": {
        "colab": {
          "base_uri": "https://localhost:8080/"
        },
        "id": "4jeGqyXzJJBj",
        "outputId": "3674e521-e920-409c-86f8-db61904d7144"
      },
      "execution_count": 13,
      "outputs": [
        {
          "output_type": "execute_result",
          "data": {
            "text/plain": [
              "torch.Size([5958, 784])"
            ]
          },
          "metadata": {},
          "execution_count": 13
        }
      ]
    },
    {
      "cell_type": "code",
      "source": [
        "#Create six and two valid\n",
        "\n",
        "six_valid_vectors = (torch.stack([tensor(Image.open(i))\n",
        ".view(-1, 28*28) for i in six_valid])\n",
        ".squeeze(1)).float()/255\n",
        "\n",
        "six_valid_vectors.shape"
      ],
      "metadata": {
        "colab": {
          "base_uri": "https://localhost:8080/"
        },
        "id": "I_wPP3rjWnHk",
        "outputId": "75bfd699-baa7-43e9-d2e7-1004061f6483"
      },
      "execution_count": 14,
      "outputs": [
        {
          "output_type": "execute_result",
          "data": {
            "text/plain": [
              "torch.Size([958, 784])"
            ]
          },
          "metadata": {},
          "execution_count": 14
        }
      ]
    },
    {
      "cell_type": "code",
      "source": [
        "two_valid_vectors = (torch.stack([tensor(Image.open(i))\n",
        ".view(-1, 28*28) for i in two_valid])\n",
        ".squeeze(1)).float()/255\n",
        "\n",
        "two_valid_vectors.shape"
      ],
      "metadata": {
        "colab": {
          "base_uri": "https://localhost:8080/"
        },
        "id": "cOqSTB_8W5PV",
        "outputId": "d1a1393b-5c51-4636-aca4-ea54c7d6b036"
      },
      "execution_count": 15,
      "outputs": [
        {
          "output_type": "execute_result",
          "data": {
            "text/plain": [
              "torch.Size([1032, 784])"
            ]
          },
          "metadata": {},
          "execution_count": 15
        }
      ]
    },
    {
      "cell_type": "markdown",
      "source": [
        "What the result of the above is showing us that each of the vectors contain a vector of each image. Vectors are 1D matrices. They have just one row. A list for instance can be called a vector because they contain their values in 1D.\n",
        "\n",
        "Let us pick a random vector in both vector stack and convert it back to a matrix of 28by28 and then show it as an image, to see if our transformation still matches."
      ],
      "metadata": {
        "id": "ZeQC2_oU-yfN"
      }
    },
    {
      "cell_type": "code",
      "source": [
        "show_image(two_vectors[189, :].view(28, 28));"
      ],
      "metadata": {
        "colab": {
          "base_uri": "https://localhost:8080/",
          "height": 85
        },
        "id": "xWELKtiBJJEQ",
        "outputId": "a032b566-7652-4157-ea8d-467bbdf780c7"
      },
      "execution_count": 16,
      "outputs": [
        {
          "output_type": "display_data",
          "data": {
            "text/plain": [
              "<Figure size 72x72 with 1 Axes>"
            ],
            "image/png": "[encoded data removed]"
          },
          "metadata": {
            "needs_background": "light"
          }
        }
      ]
    },
    {
      "cell_type": "code",
      "source": [
        "show_image(six_vectors[1900, :].view(28, 28));"
      ],
      "metadata": {
        "colab": {
          "base_uri": "https://localhost:8080/",
          "height": 85
        },
        "id": "mi8TLY8VJJTe",
        "outputId": "68773a1a-d2d3-4951-89f7-07e8e0c3ec0d"
      },
      "execution_count": 17,
      "outputs": [
        {
          "output_type": "display_data",
          "data": {
            "text/plain": [
              "<Figure size 72x72 with 1 Axes>"
            ],
            "image/png": "[encoded data removed]"
          },
          "metadata": {
            "needs_background": "light"
          }
        }
      ]
    },
    {
      "cell_type": "code",
      "source": [
        "#Obtain train data and targets that combine both stacks\n",
        "two_target = L([0] * len(two_images))\n",
        "six_target = L([1] * len(six_images))\n",
        "\n",
        "train_target = two_target + six_target\n",
        "train_target[:10]"
      ],
      "metadata": {
        "colab": {
          "base_uri": "https://localhost:8080/"
        },
        "id": "UMsg8YD_JJXP",
        "outputId": "7d316fe5-6384-4062-fd9b-af5617548462"
      },
      "execution_count": 18,
      "outputs": [
        {
          "output_type": "execute_result",
          "data": {
            "text/plain": [
              "(#10) [0,0,0,0,0,0,0,0,0,0]"
            ]
          },
          "metadata": {},
          "execution_count": 18
        }
      ]
    },
    {
      "cell_type": "code",
      "source": [
        "len(six_valid)"
      ],
      "metadata": {
        "colab": {
          "base_uri": "https://localhost:8080/"
        },
        "id": "jElNZj5gXqR3",
        "outputId": "be539ec4-9988-495c-a781-45b105eede01"
      },
      "execution_count": 19,
      "outputs": [
        {
          "output_type": "execute_result",
          "data": {
            "text/plain": [
              "958"
            ]
          },
          "metadata": {},
          "execution_count": 19
        }
      ]
    },
    {
      "cell_type": "code",
      "source": [
        "#Obtain valid data and targets that combine both stacks\n",
        "\n",
        "two_valid_targets = L([0] * len(two_valid))\n",
        "six_valid_targets = L([1] * len(six_valid))\n",
        "\n",
        "valid_target = two_valid_targets + six_valid_targets\n",
        "valid_target[:10]"
      ],
      "metadata": {
        "colab": {
          "base_uri": "https://localhost:8080/"
        },
        "id": "Xw55QXMyXe7G",
        "outputId": "954bccae-04c6-4f27-ab66-2c6150e8ad51"
      },
      "execution_count": 20,
      "outputs": [
        {
          "output_type": "execute_result",
          "data": {
            "text/plain": [
              "(#10) [0,0,0,0,0,0,0,0,0,0]"
            ]
          },
          "metadata": {},
          "execution_count": 20
        }
      ]
    },
    {
      "cell_type": "code",
      "source": [
        "train_target[-6266:]"
      ],
      "metadata": {
        "colab": {
          "base_uri": "https://localhost:8080/"
        },
        "id": "2AQ8mf9LDtjY",
        "outputId": "b5650729-b37c-4e47-ccc2-dda22e3a70fc"
      },
      "execution_count": 21,
      "outputs": [
        {
          "output_type": "execute_result",
          "data": {
            "text/plain": [
              "(#6266) [0,0,0,0,0,0,0,0,0,0...]"
            ]
          },
          "metadata": {},
          "execution_count": 21
        }
      ]
    },
    {
      "cell_type": "code",
      "source": [
        "train_data = two_images + six_images\n",
        "\n",
        "train_vectors = (torch.stack([tensor(Image.open(i))\n",
        ".view(-1, 28*28) for i in train_data])\n",
        ".squeeze(1)).float()/255\n",
        "train_vectors.shape"
      ],
      "metadata": {
        "colab": {
          "base_uri": "https://localhost:8080/"
        },
        "id": "z_E0P6JlJJfh",
        "outputId": "ae23ec85-9505-4044-df4e-93ed88249362"
      },
      "execution_count": 22,
      "outputs": [
        {
          "output_type": "execute_result",
          "data": {
            "text/plain": [
              "torch.Size([11876, 784])"
            ]
          },
          "metadata": {},
          "execution_count": 22
        }
      ]
    },
    {
      "cell_type": "code",
      "source": [
        "train_vectors.shape[1]"
      ],
      "metadata": {
        "colab": {
          "base_uri": "https://localhost:8080/"
        },
        "id": "TFGzQlw2-WPE",
        "outputId": "16bec2cd-0e49-4f75-da15-7da35fab522f"
      },
      "execution_count": 23,
      "outputs": [
        {
          "output_type": "execute_result",
          "data": {
            "text/plain": [
              "784"
            ]
          },
          "metadata": {},
          "execution_count": 23
        }
      ]
    },
    {
      "cell_type": "code",
      "source": [
        "#Valid datapoints\n",
        "\n",
        "valid_data = two_valid + six_valid\n",
        "\n",
        "valid_vectors = (torch.stack([tensor(Image.open(i))\n",
        ".view(-1, 28*28) for i in valid_data])\n",
        ".squeeze(1)).float()/255\n",
        "\n",
        "valid_vectors.shape"
      ],
      "metadata": {
        "colab": {
          "base_uri": "https://localhost:8080/"
        },
        "id": "9--wV_KRY1Kq",
        "outputId": "7c9ce2d6-0315-4775-e83a-bed09d9b632d"
      },
      "execution_count": 24,
      "outputs": [
        {
          "output_type": "execute_result",
          "data": {
            "text/plain": [
              "torch.Size([1990, 784])"
            ]
          },
          "metadata": {},
          "execution_count": 24
        }
      ]
    },
    {
      "cell_type": "code",
      "source": [
        "#test the first and lastn set of vectors\n",
        "show_image(train_vectors[20, :].view(28, 28));"
      ],
      "metadata": {
        "colab": {
          "base_uri": "https://localhost:8080/",
          "height": 85
        },
        "id": "F8U7AeqpJJjA",
        "outputId": "1ce5ff3b-686b-4885-bdb6-55f0c3f3488b"
      },
      "execution_count": 25,
      "outputs": [
        {
          "output_type": "display_data",
          "data": {
            "text/plain": [
              "<Figure size 72x72 with 1 Axes>"
            ],
            "image/png": "[encoded data removed]"
          },
          "metadata": {
            "needs_background": "light"
          }
        }
      ]
    },
    {
      "cell_type": "code",
      "source": [
        "show_image(train_vectors[-10, :].view(28, 28));"
      ],
      "metadata": {
        "colab": {
          "base_uri": "https://localhost:8080/",
          "height": 85
        },
        "id": "XFbRGGtxJJlw",
        "outputId": "2d284d9b-47e0-4e39-e6cb-e0bf574c1f9f"
      },
      "execution_count": 26,
      "outputs": [
        {
          "output_type": "display_data",
          "data": {
            "text/plain": [
              "<Figure size 72x72 with 1 Axes>"
            ],
            "image/png": "[encoded data removed]"
          },
          "metadata": {
            "needs_background": "light"
          }
        }
      ]
    },
    {
      "cell_type": "code",
      "source": [
        "#Show image for valid dataset\n",
        "show_image(valid_vectors[10, :].view(28, 28));"
      ],
      "metadata": {
        "colab": {
          "base_uri": "https://localhost:8080/",
          "height": 85
        },
        "id": "kPP7ddrQZcbb",
        "outputId": "b862b647-7c19-4e77-e4a9-d7e3985c1c85"
      },
      "execution_count": 27,
      "outputs": [
        {
          "output_type": "display_data",
          "data": {
            "text/plain": [
              "<Figure size 72x72 with 1 Axes>"
            ],
            "image/png": "[encoded data removed]"
          },
          "metadata": {
            "needs_background": "light"
          }
        }
      ]
    },
    {
      "cell_type": "code",
      "source": [
        "#Show image for valid dataset\n",
        "show_image(valid_vectors[-10, :].view(28, 28));"
      ],
      "metadata": {
        "colab": {
          "base_uri": "https://localhost:8080/",
          "height": 85
        },
        "id": "7eu6cQ2UZtHK",
        "outputId": "16e078ef-1cb7-4e2d-b629-4b4461d56cfd"
      },
      "execution_count": 28,
      "outputs": [
        {
          "output_type": "display_data",
          "data": {
            "text/plain": [
              "<Figure size 72x72 with 1 Axes>"
            ],
            "image/png": "[encoded data removed]"
          },
          "metadata": {
            "needs_background": "light"
          }
        }
      ]
    },
    {
      "cell_type": "code",
      "source": [
        "#Convert train_target to 2D array for proper zipping\n",
        "\n",
        "train_target_t = tensor(train_target).unsqueeze(1)\n",
        "train_target_t.shape"
      ],
      "metadata": {
        "colab": {
          "base_uri": "https://localhost:8080/"
        },
        "id": "sdtuLw3YJJpA",
        "outputId": "b6679f5d-dde6-4e9a-e4af-ab60cd5d3a21"
      },
      "execution_count": 29,
      "outputs": [
        {
          "output_type": "execute_result",
          "data": {
            "text/plain": [
              "torch.Size([11876, 1])"
            ]
          },
          "metadata": {},
          "execution_count": 29
        }
      ]
    },
    {
      "cell_type": "code",
      "source": [
        "#Convert valid target to 2D array\n",
        "\n",
        "valid_target_t = tensor(valid_target).unsqueeze(1)\n",
        "valid_target_t.shape"
      ],
      "metadata": {
        "colab": {
          "base_uri": "https://localhost:8080/"
        },
        "id": "QTp8MKtDZ172",
        "outputId": "75f2cb8c-c0f1-4b42-dc93-92373a11a30e"
      },
      "execution_count": 30,
      "outputs": [
        {
          "output_type": "execute_result",
          "data": {
            "text/plain": [
              "torch.Size([1990, 1])"
            ]
          },
          "metadata": {},
          "execution_count": 30
        }
      ]
    },
    {
      "cell_type": "code",
      "source": [
        "#Zip both values of data and target of training set into a dataset\n",
        "\n",
        "train_dset = list(zip(train_vectors, train_target))\n",
        "train_dset[0][0].shape, train_dset[0][1]\n",
        "#This will be useful when we want to use a dataloader"
      ],
      "metadata": {
        "colab": {
          "base_uri": "https://localhost:8080/"
        },
        "id": "QndNlp_QJJsR",
        "outputId": "ca62a17a-5030-4a56-95cd-374c0921a2be"
      },
      "execution_count": 31,
      "outputs": [
        {
          "output_type": "execute_result",
          "data": {
            "text/plain": [
              "(torch.Size([784]), 0)"
            ]
          },
          "metadata": {},
          "execution_count": 31
        }
      ]
    },
    {
      "cell_type": "code",
      "source": [
        "#Zip both values of target into a dataset\n",
        "\n",
        "valid_dset = list(zip(valid_vectors, valid_target))\n",
        "valid_dset[0][0].shape, valid_dset[0][1]\n",
        "#This will be useful when we want to use a dataloader"
      ],
      "metadata": {
        "colab": {
          "base_uri": "https://localhost:8080/"
        },
        "id": "xnolfxgsaETH",
        "outputId": "b0bb47e4-ba61-45ac-9547-9a990c7fea2d"
      },
      "execution_count": 32,
      "outputs": [
        {
          "output_type": "execute_result",
          "data": {
            "text/plain": [
              "(torch.Size([784]), 0)"
            ]
          },
          "metadata": {},
          "execution_count": 32
        }
      ]
    },
    {
      "cell_type": "markdown",
      "source": [
        "#### Initialize Parameter\n",
        "\n",
        "Paramter refers to the weights that is used to multiply each pixel value that is represented in the picture and as a vector in train data. One more thing however about parameters is that for each weight designed, a bias should be added. Following the simple linear function equation $$ y = mx + b $$\n",
        "\n",
        "where b is the bias, the intercept.\n",
        "To do all of this, we will be defining a class but trying out the functions outside of the class. To initialize some weights, we randomly generate the values and apply the require_grads method of pytorch to tell the computer that for any function this parameters are used and the `backward propagation` of the function is called, we would need our processor to calculate the gradients of these parameters with respect to such function."
      ],
      "metadata": {
        "id": "SvlS9xD7KUty"
      }
    },
    {
      "cell_type": "code",
      "source": [
        "#init_param\n",
        "torch.seed=42\n",
        "def init_param(shape):\n",
        "  return torch.randn(shape, 1).requires_grad_(), torch.randn(1).requires_grad_()\n",
        "paramm = init_param(train_vectors.shape[1])"
      ],
      "metadata": {
        "id": "65vrb8RY8kjA"
      },
      "execution_count": 38,
      "outputs": []
    },
    {
      "cell_type": "code",
      "source": [
        "class neural_net:\n",
        "  def __init__(self, train_vecs):\n",
        "    self.train_vecs = train_vecs #which is the training vectors\n",
        "  def initialize_params(self):\n",
        "    self.weight = torch.randn(self.train_vecs.shape[1], 1).requires_grad_()\n",
        "    self.bias = torch.randn(1).requires_grad_()\n",
        "    return self.weight, self.bias"
      ],
      "metadata": {
        "id": "ou8vvcbaJJvd"
      },
      "execution_count": 34,
      "outputs": []
    },
    {
      "cell_type": "code",
      "source": [
        "nnet = neural_net(train_vectors)\n",
        "wt, bi = nn.initialize_params()\n",
        "\n",
        "print(wt.shape)\n",
        "print(\" \")\n",
        "wt[:5], bi #Note the grad_fn information at the outputs"
      ],
      "metadata": {
        "colab": {
          "base_uri": "https://localhost:8080/"
        },
        "id": "DBTpCpBtJJzI",
        "outputId": "e609af8e-fa9f-4d43-bf16-a3297fa01404"
      },
      "execution_count": 35,
      "outputs": [
        {
          "output_type": "stream",
          "name": "stdout",
          "text": [
            "torch.Size([784, 1])\n",
            " \n"
          ]
        },
        {
          "output_type": "execute_result",
          "data": {
            "text/plain": [
              "(tensor([[0.0169],\n",
              "         [0.0803],\n",
              "         [0.7448],\n",
              "         [1.3455],\n",
              "         [0.1268]], grad_fn=<SliceBackward0>),\n",
              " tensor([1.0122], requires_grad=True))"
            ]
          },
          "metadata": {},
          "execution_count": 35
        }
      ]
    },
    {
      "cell_type": "markdown",
      "source": [
        "### Make Predictions\n",
        "\n",
        "Next is to use the weights to make predictions using matrix multiplication"
      ],
      "metadata": {
        "id": "S8UuCICiC6BA"
      }
    },
    {
      "cell_type": "code",
      "source": [
        "#Define function to make predictions\n",
        "\n",
        "def make_preds(xb): return xb@weights + bias"
      ],
      "metadata": {
        "id": "w43RxtMJRfy_"
      },
      "execution_count": 43,
      "outputs": []
    },
    {
      "cell_type": "code",
      "source": [
        "#Initialize the weight and bias\n",
        "weights, bias = paramm\n",
        "\n",
        "weights.shape, bias"
      ],
      "metadata": {
        "colab": {
          "base_uri": "https://localhost:8080/"
        },
        "id": "teh3WitcSeO7",
        "outputId": "02906b1f-72f3-4691-92bf-455b59fbc969"
      },
      "execution_count": 41,
      "outputs": [
        {
          "output_type": "execute_result",
          "data": {
            "text/plain": [
              "(torch.Size([784, 1]), tensor([-0.6236], requires_grad=True))"
            ]
          },
          "metadata": {},
          "execution_count": 41
        }
      ]
    },
    {
      "cell_type": "code",
      "source": [
        "preds = make_preds(train_vectors)\n",
        "preds"
      ],
      "metadata": {
        "colab": {
          "base_uri": "https://localhost:8080/"
        },
        "id": "wptc6tFaSuIk",
        "outputId": "d2b5524f-2b00-4ddc-d05a-c600cc90a2fd"
      },
      "execution_count": 46,
      "outputs": [
        {
          "output_type": "execute_result",
          "data": {
            "text/plain": [
              "tensor([[-0.1632],\n",
              "        [ 0.9474],\n",
              "        [ 4.0635],\n",
              "        ...,\n",
              "        [12.1747],\n",
              "        [-8.7102],\n",
              "        [-3.1788]], grad_fn=<AddBackward0>)"
            ]
          },
          "metadata": {},
          "execution_count": 46
        }
      ]
    },
    {
      "cell_type": "code",
      "source": [
        "#Add function make_preds to the class we are trying to build\n",
        "\n",
        "class neural_net:\n",
        "  def __init__(self, train_vecs):\n",
        "    self.train_vecs = train_vecs #which is the training vectors\n",
        "  def initialize_params(self):\n",
        "    self.weight = torch.randn(self.train_vecs.shape[1], 1).requires_grad_()\n",
        "    self.bias = torch.randn(1).requires_grad_()\n",
        "    return self.weight, self.bias\n",
        "  def make_preds(self):\n",
        "    self.raw_predictions = self.train_vecs@self.weight + self.bias\n",
        "    return self.raw_predictions"
      ],
      "metadata": {
        "id": "VdEb8XflJJ55"
      },
      "execution_count": 36,
      "outputs": []
    },
    {
      "cell_type": "code",
      "source": [
        "#Test prediction method to work for class\n",
        "nets = neural_net(train_vectors)\n",
        "nets.initialize_params()\n",
        "preds_class=nets.make_preds()\n",
        "preds_class"
      ],
      "metadata": {
        "colab": {
          "base_uri": "https://localhost:8080/"
        },
        "id": "AqfRoBzRJJ-E",
        "outputId": "1ac9b84b-6c0c-4175-8f09-b1ae241f7481"
      },
      "execution_count": 47,
      "outputs": [
        {
          "output_type": "execute_result",
          "data": {
            "text/plain": [
              "tensor([[-3.3724],\n",
              "        [ 8.3267],\n",
              "        [ 0.1342],\n",
              "        ...,\n",
              "        [22.3979],\n",
              "        [15.0937],\n",
              "        [18.9928]], grad_fn=<AddBackward0>)"
            ]
          },
          "metadata": {},
          "execution_count": 47
        }
      ]
    },
    {
      "cell_type": "markdown",
      "source": [
        "### Calculating loss functions and metrics\n",
        "\n",
        "Since these weights were randomly initiated, we expect that the answers would be also random and be meaningless especially at the first try. Because of this we will be needing a function that can help us compare our prediction against the actual target and tells us how far we are from our result. The natural choice to go to when dealing with a classifcation problem like this is to use accuracy, which measures how accurate the prediction made is. The next section leads us to `calculating loss functions and metrics`"
      ],
      "metadata": {
        "id": "qn3GtK__bdtZ"
      }
    },
    {
      "cell_type": "code",
      "source": [
        "def accurate(pred, targets):\n",
        "  acc = (preds>0.0).float() == targets\n",
        "  return acc.float().mean()"
      ],
      "metadata": {
        "id": "i72E_JNQJKHm"
      },
      "execution_count": 48,
      "outputs": []
    },
    {
      "cell_type": "code",
      "source": [
        "accurate(preds, train_target_t)"
      ],
      "metadata": {
        "colab": {
          "base_uri": "https://localhost:8080/"
        },
        "id": "cVILptcXmrFW",
        "outputId": "b0c23202-b4f5-4570-e30f-04d627b8786b"
      },
      "execution_count": 49,
      "outputs": [
        {
          "output_type": "execute_result",
          "data": {
            "text/plain": [
              "tensor(0.4789)"
            ]
          },
          "metadata": {},
          "execution_count": 49
        }
      ]
    },
    {
      "cell_type": "markdown",
      "source": [
        "This function that seeks to measure accuracy, makes use that predictions that are negative(less than 0) are False(0, which represents the digit 2 in our data design) and predictions that are positive(greater than 0) are True(1, which represents our digit 6). \n",
        "\n",
        "This True or False value converted to numbers(floats) are then compared to the actual targets and we obtain a 0.544 accuracy, whic states that the model is about 54% correct (Might vary depending on the value initiated for our weights and bias by the initiating parameter). \n",
        "However, there is a slight problem with using accuracy as a loss function. One important thing when choosing a good loss function is that the function is smooth over time.\n",
        "\n",
        "In simple terms, a little change in the independent variable (The parmeters - Weight and Bias) should lead to a (little)change in  the dependent variable (The loss). This simple narrative is the principle that gradients and calculating gradients hinges upon. And calculating the gradients of the loss function(dependent variable) with respect to the parameters(weights and biases) is the principle upon which `backpropagation` hinges.\n",
        "\n",
        "In the case of accuracy, this is not so because accuracy as the loss function is either 0 or 1 and not in between, and for most part of let's say a particular weight, the accuracy will be (0 or 1, but let us say 0) 0 and whether the particular weight is increasing or decreasing, the accuracy will remain unchanged until it gets an exact value that allows it to jump from 0 to 1. This jump which is caused by a small change in the weight (for instance 0.0001, in mathematical terms, as the number tends to zero), allows the gradient to be calculated as 1/0.0001 which as the number tends to zero, so also does the gradient tend to infinity. This large jumps in the gradient of using accuracy as a loss function is not useful for stepping the weights when needed, see demonstration of the above below."
      ],
      "metadata": {
        "id": "jnPrp9Y6mJ8C"
      }
    },
    {
      "cell_type": "code",
      "source": [
        "preds"
      ],
      "metadata": {
        "colab": {
          "base_uri": "https://localhost:8080/"
        },
        "id": "Eff6TApKJKLl",
        "outputId": "6e47a3c4-f784-4a0c-d4f6-94c7d89d2db5"
      },
      "execution_count": 51,
      "outputs": [
        {
          "output_type": "execute_result",
          "data": {
            "text/plain": [
              "tensor([[-0.1632],\n",
              "        [ 0.9474],\n",
              "        [ 4.0635],\n",
              "        ...,\n",
              "        [12.1747],\n",
              "        [-8.7102],\n",
              "        [-3.1788]], grad_fn=<AddBackward0>)"
            ]
          },
          "metadata": {},
          "execution_count": 51
        }
      ]
    },
    {
      "cell_type": "code",
      "source": [
        "#Accuracy before we alter a given weight\n",
        "acc1 = accurate(preds, train_target_t).item()\n",
        "acc1"
      ],
      "metadata": {
        "colab": {
          "base_uri": "https://localhost:8080/"
        },
        "id": "Nv1YE10JJKPN",
        "outputId": "a369e714-fc5f-4b32-e390-56f50c25a3cd"
      },
      "execution_count": 61,
      "outputs": [
        {
          "output_type": "execute_result",
          "data": {
            "text/plain": [
              "0.4788649380207062"
            ]
          },
          "metadata": {},
          "execution_count": 61
        }
      ]
    },
    {
      "cell_type": "code",
      "source": [
        "#A particular weight that has not been changed yet\n",
        "weights[320]"
      ],
      "metadata": {
        "colab": {
          "base_uri": "https://localhost:8080/"
        },
        "id": "z6PCfaijue8l",
        "outputId": "3892cf16-fc5f-403c-e6c6-29bfe5563008"
      },
      "execution_count": 53,
      "outputs": [
        {
          "output_type": "execute_result",
          "data": {
            "text/plain": [
              "tensor([-0.0328], grad_fn=<SelectBackward0>)"
            ]
          },
          "metadata": {},
          "execution_count": 53
        }
      ]
    },
    {
      "cell_type": "code",
      "source": [
        "#Changing the given weight above\n",
        "\n",
        "with torch.no_grad(): weights[320] *= 1.01"
      ],
      "metadata": {
        "id": "mk6I24NWJKSq"
      },
      "execution_count": 57,
      "outputs": []
    },
    {
      "cell_type": "code",
      "source": [
        "#Weights changed and altered\n",
        "weights[320]"
      ],
      "metadata": {
        "colab": {
          "base_uri": "https://localhost:8080/"
        },
        "id": "zsuKzaVEJKW4",
        "outputId": "8402b61e-2982-4603-a33b-21586b636663"
      },
      "execution_count": 58,
      "outputs": [
        {
          "output_type": "execute_result",
          "data": {
            "text/plain": [
              "tensor([-0.0331], grad_fn=<SelectBackward0>)"
            ]
          },
          "metadata": {},
          "execution_count": 58
        }
      ]
    },
    {
      "cell_type": "markdown",
      "source": [
        "We see that a particular weight has been changed and should change the resulting predictions that should change the loss function but would not.\n",
        "\n",
        "**Note:** The with torch.no_grad() is to inform the computer not to calculated a gradient for the particular function performed on the parameter."
      ],
      "metadata": {
        "id": "cF08yCvUvH-H"
      }
    },
    {
      "cell_type": "code",
      "source": [
        "predictions1 = make_preds(train_vectors)\n",
        "acc2 = accurate(predictions1, train_target_t).item()\n",
        "acc2"
      ],
      "metadata": {
        "colab": {
          "base_uri": "https://localhost:8080/"
        },
        "id": "x0mqmJWRJKcO",
        "outputId": "20f90502-703d-4a9c-ca2e-1eeac2854bed"
      },
      "execution_count": 62,
      "outputs": [
        {
          "output_type": "execute_result",
          "data": {
            "text/plain": [
              "0.4788649380207062"
            ]
          },
          "metadata": {},
          "execution_count": 62
        }
      ]
    },
    {
      "cell_type": "code",
      "source": [
        "#Test to see acc1 and acc2 are same -- Result: True\n",
        "acc1 == acc2"
      ],
      "metadata": {
        "colab": {
          "base_uri": "https://localhost:8080/"
        },
        "id": "0VqVREaNZhZv",
        "outputId": "4839e353-2f8a-400c-d5f0-ccf84b28974d"
      },
      "execution_count": 63,
      "outputs": [
        {
          "output_type": "execute_result",
          "data": {
            "text/plain": [
              "True"
            ]
          },
          "metadata": {},
          "execution_count": 63
        }
      ]
    },
    {
      "cell_type": "markdown",
      "source": [
        "####Loss function, Gradient Descent and Sigmoid Function.\n",
        "\n",
        "From what we see above, we know already that accuracy would not serve as a good loss function because for most part of a given weight, the `gradient of the loss function` with respect to (w.r.t) a particular weight will be zero and at the peak of change, it will be infinity. This will not be useful to step our weights.\n",
        "\n",
        "In order to deal with this, imagine the following:\n",
        "1. Our prediction is between 0 and 1.\n",
        "2. For any confident prediction in the right direction, our model is not penalized so much, but for any confident prediction in the wrong direection, our model is largely penalized. \n",
        "\n",
        "It so happens that these two conditions can be implemented through pytorch.\n",
        "The first condition can be implemented through a function called sigmoid. Sigmoid fits any values from negative infinity to positive infinity to be in between 0 and 1. The formula for this is given as:\n",
        "\n",
        "$$ S(x) =  \\frac{\\mathrm{1} }{\\mathrm{1} + e^{-x} }  $$ \n",
        "\n",
        "The second condition works the following ways, since our model can now make a prediction between 0 and 1 with any float in between, we can the penalize any confident that goes in the wrong direction\n",
        "\n",
        "For example, if our model makes a prediction as 0 and the actual is 0, the penalty for such prediction should be 0 but if the actual is 1, the penalty for such confident misinterpretation should 1.0. If it is 0.6 for instance and the actual target is 1.0, the penalty should be 0.4 and so on. . .\n",
        "\n",
        "This means a large loss means a poor model and a small loss means a great model with small penalty attched to it."
      ],
      "metadata": {
        "id": "1VGNic2nwJPJ"
      }
    },
    {
      "cell_type": "code",
      "source": [
        "plot_function(torch.sigmoid,\n",
        "              title=\"Sigmoid function plot\",\n",
        "              tx=\"x\", ty=\"Sigmoid\",\n",
        "              min=-4, max=4);"
      ],
      "metadata": {
        "colab": {
          "base_uri": "https://localhost:8080/",
          "height": 302
        },
        "id": "PtYouw1BJKhM",
        "outputId": "d0870081-0383-4c4b-86ac-09ef116006e7"
      },
      "execution_count": 64,
      "outputs": [
        {
          "output_type": "display_data",
          "data": {
            "text/plain": [
              "<Figure size 432x288 with 1 Axes>"
            ],
            "image/png": "[encoded data removed]"
          },
          "metadata": {
            "needs_background": "light"
          }
        }
      ]
    },
    {
      "cell_type": "code",
      "source": [
        "#Redefine class once again, and add loss function\n",
        "class neural_net:\n",
        "  def __init__(self, train_vecs, target_vecs):\n",
        "    self.train_vecs = train_vecs #which is the training vectors\n",
        "    self.target_vecs = target_vecs\n",
        "  def initialize_params(self):\n",
        "    self.weight = torch.randn(self.train_vecs.shape[1], 1).requires_grad_()\n",
        "    self.bias = torch.randn(1).requires_grad_()\n",
        "    return self.weight, self.bias\n",
        "  def make_preds(self):\n",
        "    self.initialize_params()\n",
        "    self.raw_predictions = self.train_vecs@self.weight + self.bias\n",
        "    return self.raw_predictions\n",
        "  def loss_func(self):\n",
        "    self.make_preds()\n",
        "    self.predictions = self.raw_predictions.sigmoid()\n",
        "    loss=torch.where(self.target_vecs==1, 1-self.predictions, self.predictions).mean()\n",
        "    return loss"
      ],
      "metadata": {
        "id": "p8aUc7puJKkm"
      },
      "execution_count": 232,
      "outputs": []
    },
    {
      "cell_type": "code",
      "source": [
        "neural_net(train_vectors, train_target_t).loss_func()"
      ],
      "metadata": {
        "colab": {
          "base_uri": "https://localhost:8080/",
          "height": 0
        },
        "id": "1YbEDJm3JKo9",
        "outputId": "2e7b5fdb-4eaa-4da1-e3e7-84d03e4b398c"
      },
      "execution_count": 233,
      "outputs": [
        {
          "output_type": "execute_result",
          "data": {
            "text/plain": [
              "tensor(0.3141, grad_fn=<MeanBackward0>)"
            ]
          },
          "metadata": {},
          "execution_count": 233
        }
      ]
    },
    {
      "cell_type": "code",
      "source": [
        "#Define function outside the class for implementation\n",
        "def loss_func(pred, target):\n",
        "  pred = pred.sigmoid()    #1st condition, sigmoid function\n",
        "  return torch.where(target==1, 1-pred, pred).mean()   #Second condition\n",
        "sig_loss1 = loss_func(predictions1, train_target_t).item()\n",
        "sig_loss1"
      ],
      "metadata": {
        "colab": {
          "base_uri": "https://localhost:8080/"
        },
        "id": "TMFqxFutJKsr",
        "outputId": "2319c8aa-2015-4f80-f9c2-ff7cddf1d7ae"
      },
      "execution_count": 68,
      "outputs": [
        {
          "output_type": "execute_result",
          "data": {
            "text/plain": [
              "0.523318350315094"
            ]
          },
          "metadata": {},
          "execution_count": 68
        }
      ]
    },
    {
      "cell_type": "code",
      "source": [
        "#Lets us change something in the weights as above to spot any change\n",
        "weights[320]"
      ],
      "metadata": {
        "colab": {
          "base_uri": "https://localhost:8080/"
        },
        "id": "NUNmqQMo7-to",
        "outputId": "4d04dfe0-7e54-40c3-d477-229ec210ce1d"
      },
      "execution_count": 69,
      "outputs": [
        {
          "output_type": "execute_result",
          "data": {
            "text/plain": [
              "tensor([-0.0331], grad_fn=<SelectBackward0>)"
            ]
          },
          "metadata": {},
          "execution_count": 69
        }
      ]
    },
    {
      "cell_type": "markdown",
      "source": [
        "P:S - There is a difference between the class output on the loss function largely due to multiple calling of some random parameters."
      ],
      "metadata": {
        "id": "aI-NieJ69grv"
      }
    },
    {
      "cell_type": "code",
      "source": [
        "#CAlter weights\n",
        "with torch.no_grad(): weights[320] *= 0.991"
      ],
      "metadata": {
        "id": "JtePyolrBuCa"
      },
      "execution_count": 74,
      "outputs": []
    },
    {
      "cell_type": "code",
      "source": [
        "#ltered weigghts\n",
        "weights[320]"
      ],
      "metadata": {
        "colab": {
          "base_uri": "https://localhost:8080/"
        },
        "id": "QYWOVZNzc2Rk",
        "outputId": "20503e03-dfc0-4636-f730-b36ebe0056d1"
      },
      "execution_count": 75,
      "outputs": [
        {
          "output_type": "execute_result",
          "data": {
            "text/plain": [
              "tensor([-0.0328], grad_fn=<SelectBackward0>)"
            ]
          },
          "metadata": {},
          "execution_count": 75
        }
      ]
    },
    {
      "cell_type": "code",
      "source": [
        "predictions2 = make_preds(train_vectors)\n",
        "sig_loss2 = loss_func(predictions2, train_target_t)\n",
        "sig_loss2.item()"
      ],
      "metadata": {
        "colab": {
          "base_uri": "https://localhost:8080/"
        },
        "id": "zYtGBKJSJKyi",
        "outputId": "4ddc81d5-3a6a-4927-a29f-b1f7389bc321"
      },
      "execution_count": 77,
      "outputs": [
        {
          "output_type": "execute_result",
          "data": {
            "text/plain": [
              "0.5233126878738403"
            ]
          },
          "metadata": {},
          "execution_count": 77
        }
      ]
    },
    {
      "cell_type": "code",
      "source": [
        "#The loss has responed to the same level of change as with previous accuracy loss function\n",
        "#Test if the losses are the same\n",
        "(sig_loss1 == sig_loss2).item()"
      ],
      "metadata": {
        "colab": {
          "base_uri": "https://localhost:8080/"
        },
        "id": "EZOgfTggdsiL",
        "outputId": "aa917275-8ce1-4f5f-a883-dca79f7853d1"
      },
      "execution_count": 79,
      "outputs": [
        {
          "output_type": "execute_result",
          "data": {
            "text/plain": [
              "False"
            ]
          },
          "metadata": {},
          "execution_count": 79
        }
      ]
    },
    {
      "cell_type": "markdown",
      "source": [
        "Yeah! As predicted, there is a difference in the loss function result when the parameter slightly changed. The loss function however is a mathematical formula that is useful for stepping the weights in neural networks but not for really understanding how well the model is making a good prediction. Thus we will be adding the accurate function that returns how accurate the prediction we are making is."
      ],
      "metadata": {
        "id": "EBtXa5xkCxtd"
      }
    },
    {
      "cell_type": "code",
      "source": [
        "def accurate(pred, targets, threshold=0.5):\n",
        "  acc = (preds>threshold).float() == targets\n",
        "  return acc.float().mean()"
      ],
      "metadata": {
        "id": "wz5SXLGAjFMe"
      },
      "execution_count": 80,
      "outputs": []
    },
    {
      "cell_type": "code",
      "source": [
        "accurate(predictions2, train_target_t)"
      ],
      "metadata": {
        "colab": {
          "base_uri": "https://localhost:8080/"
        },
        "id": "g2lZ8JCDjGNF",
        "outputId": "7efa7964-9f2b-4e13-8fcb-5e13655e236f"
      },
      "execution_count": 81,
      "outputs": [
        {
          "output_type": "execute_result",
          "data": {
            "text/plain": [
              "tensor(0.4750)"
            ]
          },
          "metadata": {},
          "execution_count": 81
        }
      ]
    },
    {
      "cell_type": "markdown",
      "source": [
        "**Where the magic happens.** We can obtain gradient of the loss function w.r.t each parameter. This obtained information used to step the weights in the direction to minimize the loss function. For better understanding of this, you can assume that loss function is a quadratic function with a single paramter x, in DL we will need a value of x that minimizes as much as possible the loss function on the parabolic curve. The mathematical and computer way to do this is to determine the gradient of the function at point x and use that to step the weights in the direction of the gradient while avoiding overshooting the minima."
      ],
      "metadata": {
        "id": "QpXeZU_AF7RT"
      }
    },
    {
      "cell_type": "code",
      "source": [
        "#Call loss.backwards()\n",
        "sig_loss2.backward()\n",
        "#This method calls populates the weights and bias with the\n",
        "#.grad(gradients) attribute, remember `.requires_grad_()`?"
      ],
      "metadata": {
        "id": "3_K-MFFpF2Vz"
      },
      "execution_count": 82,
      "outputs": []
    },
    {
      "cell_type": "code",
      "source": [
        "weights.grad[200:220, :]"
      ],
      "metadata": {
        "colab": {
          "base_uri": "https://localhost:8080/"
        },
        "id": "55dH7OUcFJ3q",
        "outputId": "477e4931-353f-46da-f701-b74fab9233ea"
      },
      "execution_count": 83,
      "outputs": [
        {
          "output_type": "execute_result",
          "data": {
            "text/plain": [
              "tensor([[ 0.0003],\n",
              "        [ 0.0008],\n",
              "        [ 0.0017],\n",
              "        [ 0.0026],\n",
              "        [ 0.0031],\n",
              "        [ 0.0037],\n",
              "        [ 0.0039],\n",
              "        [ 0.0024],\n",
              "        [-0.0004],\n",
              "        [-0.0036],\n",
              "        [-0.0047],\n",
              "        [-0.0022],\n",
              "        [ 0.0027],\n",
              "        [ 0.0076],\n",
              "        [ 0.0097],\n",
              "        [ 0.0087],\n",
              "        [ 0.0065],\n",
              "        [ 0.0043],\n",
              "        [ 0.0019],\n",
              "        [ 0.0004]])"
            ]
          },
          "metadata": {},
          "execution_count": 83
        }
      ]
    },
    {
      "cell_type": "code",
      "source": [
        "bias.grad"
      ],
      "metadata": {
        "colab": {
          "base_uri": "https://localhost:8080/"
        },
        "id": "rB-dnZS1fiVh",
        "outputId": "69f691c9-62c8-4047-fbb6-778d408c9dc0"
      },
      "execution_count": 84,
      "outputs": [
        {
          "output_type": "execute_result",
          "data": {
            "text/plain": [
              "tensor([-0.0039])"
            ]
          },
          "metadata": {},
          "execution_count": 84
        }
      ]
    },
    {
      "cell_type": "code",
      "source": [
        "weights.grad.shape"
      ],
      "metadata": {
        "colab": {
          "base_uri": "https://localhost:8080/"
        },
        "id": "_q_AL8RTgaTd",
        "outputId": "f7f703e3-4921-42ed-b76f-2f699ad13579"
      },
      "execution_count": 85,
      "outputs": [
        {
          "output_type": "execute_result",
          "data": {
            "text/plain": [
              "torch.Size([784, 1])"
            ]
          },
          "metadata": {},
          "execution_count": 85
        }
      ]
    },
    {
      "cell_type": "code",
      "source": [
        "#Add accuracy function to class\n",
        "class neural_net:\n",
        "  def __init__(self, train_vecs, target_vecs):\n",
        "    self.train_vecs = train_vecs #which is the training vectors\n",
        "    self.target_vecs = target_vecs\n",
        "  def initialize_params(self):\n",
        "    self.weight = torch.randn(self.train_vecs.shape[1], 1).requires_grad_()\n",
        "    self.bias = torch.randn(1).requires_grad_()\n",
        "    return self.weight, self.bias\n",
        "  def make_preds(self):\n",
        "    self.initialize_params()\n",
        "    self.raw_predictions = self.train_vecs@self.weight + self.bias\n",
        "    return self.raw_predictions\n",
        "  def loss_func(self):\n",
        "    self.make_preds()\n",
        "    self.predictions = self.raw_predictions.sigmoid()\n",
        "    loss=torch.where(self.target_vecs==1, 1-self.predictions, self.predictions).mean()\n",
        "    return loss\n",
        "  def accurate(self, threshold=0.5):\n",
        "    self.make_preds()\n",
        "    acc_pred = self.raw_predictions.sigmoid()\n",
        "    acc_= (acc_pred>threshold).float() == self.target_vecs\n",
        "    return acc_.float().mean()"
      ],
      "metadata": {
        "id": "QfHEx0FAjGVg"
      },
      "execution_count": 86,
      "outputs": []
    },
    {
      "cell_type": "code",
      "source": [
        "test_net = neural_net(train_vectors, train_target_t)\n",
        "test_net.accurate()"
      ],
      "metadata": {
        "colab": {
          "base_uri": "https://localhost:8080/"
        },
        "id": "s-JpSUkIjGgn",
        "outputId": "97ea5666-5fe3-40f8-e64a-c1e8304540c3"
      },
      "execution_count": 88,
      "outputs": [
        {
          "output_type": "execute_result",
          "data": {
            "text/plain": [
              "tensor(0.4761)"
            ]
          },
          "metadata": {},
          "execution_count": 88
        }
      ]
    },
    {
      "cell_type": "markdown",
      "source": [
        "We see that the weights.grad attribute gives an output of the shape of the number of parameters that that we insantiated. i.e. every weight has a gradient value w.r.t the loss function. This gradient essentially gives us an information, which is the direction of the function to minimize the loss. We will be considering this in the next section but before that, we can see how this basically would work. Since the gradient shows the change that would happen(change in loss function) if there is a unit change in x and not the unit change, we must gradually step it down, so that we don't fly over the minima and bounce around. We also would like to choose a factor that would multiply the change(gradient) such that we arrive faster at a minima. This deciding factor is often left in the hands of DL practictioners to determine (as a hyperparameter). For this, we would just choose 0.0001. This factor is called the learning rate(lr)"
      ],
      "metadata": {
        "id": "JhCjAZzLg4Lk"
      }
    },
    {
      "cell_type": "code",
      "source": [
        "lr = 0.0001\n",
        "epochs = 4\n",
        "loss = tensor(np.nan)\n",
        "for i in range(epochs):\n",
        "  print(\"Mean Parameter{}\".format(i+1), weights.mean().item()), print(\"Bias{}\".format(i+1), bias.item()), print(\"loss{}\".format(i+1), loss.item()), print(\" \"),\n",
        "  pred = make_preds(train_vectors)\n",
        "  loss = loss_func(pred, train_target_t)\n",
        "  loss.backward()\n",
        "  with torch.no_grad():\n",
        "    weights -= lr*weights.grad\n",
        "    weights.grad.zero_(); \n",
        "  with torch.no_grad():\n",
        "    bias -= lr*bias.grad\n",
        "    bias.grad.zero_();\n",
        "  #Using torch.no_grad(), helps us to calculate the the param IN PLACE but also asking that the gradient is not tracked.\n",
        "  #To avoid gradient accumulation, we use the .grad.zero_() over each epoch"
      ],
      "metadata": {
        "id": "sXjGIYjjlRxI",
        "colab": {
          "base_uri": "https://localhost:8080/"
        },
        "outputId": "3a8313fb-d210-4f58-fff8-d36fd332652b"
      },
      "execution_count": 96,
      "outputs": [
        {
          "output_type": "stream",
          "name": "stdout",
          "text": [
            "Mean Parameter1 0.01053717453032732\n",
            "Bias1 -0.6236460208892822\n",
            "loss1 nan\n",
            " \n",
            "Mean Parameter2 0.010537194088101387\n",
            "Bias2 -0.6236456036567688\n",
            "loss2 0.5233010053634644\n",
            " \n",
            "Mean Parameter3 0.01053721085190773\n",
            "Bias3 -0.6236451864242554\n",
            "loss3 0.5232996940612793\n",
            " \n",
            "Mean Parameter4 0.010537231341004372\n",
            "Bias4 -0.6236447691917419\n",
            "loss4 0.5232986211776733\n",
            " \n"
          ]
        }
      ]
    },
    {
      "cell_type": "markdown",
      "source": [
        "We see that our loss is reducing as our weights and biases are being adjusted by their gradients (the direction) and learning rate (magnitude).\n",
        "\n",
        "**Note to future self** In using pytorch and during initiating and updating the weights parameter, take note to use inplace operation `(i.e. a -= b)` and not out of place operators like `a = a + b`. For more information, check out this [link](https://medium.com/@mrityu.jha/understanding-the-grad-of-autograd-fc8d266fd6cf)"
      ],
      "metadata": {
        "id": "jzLqBmzd0udC"
      }
    },
    {
      "cell_type": "markdown",
      "source": [
        "### Stepping Weights: Stochastic Gradient Descent and Minibatches. (Combining all the steps together)\n",
        "\n",
        "We already have a sense of how stochasstic gradient descent works and how it is used to step down our respective weights. In deep learning however, weights are not adjusted epoch by epoch (number of trainings). They are adjusted in minibatches.\n",
        "\n",
        "While our dataset that we are using is 28 by 28 greyscale image, we often deal with higher dimension of images (3-channel images like RGB images) with higher sizes that compressing it to say 28by28 image will make it loose the image distinguishing features. For instance, in the model I deployed to hugging face that identified a zebra from an elephant, had images that were pixel sizes greater than 300 and it was colured (3 dimensiions). This means that our image training vector will be more complicated than this and subsequently the neural net that we create.\n",
        "\n",
        "In order to solve this complexity (time) and some other advantages that I will highlight, data(for instance images) are passed in through the model in minibatches. `Batch size` refers to the number of data points that you want to use at a particular time through the model. \n",
        "\n",
        "Take for instance, our model will be using 6,000 images for training and during training, we assign that we will be training the model for 5 epochs and batch size of 500 (Although I doubt DL practictioners will use that number or such round number, you might rather find something like 256 or 512, I don't know why yet). So, what happens is that during epoch 1, we choose 500 data points from the pool of the 6,000 datapoints, make predictions, calculate loss function and metrics, adjust the weights, reset the gradients and go on to another set of 500 datapoints. We only finish epoch 1  when the 6,000 datapoints have been used to train the model(That will be about 12 times during epoch 1). We do this for epoch 2, 3, 4 and 5. And the result obtained is recorded.\n",
        "\n",
        "Note that in our outputs, we will only see one loss and metric and other outputs values for each epoch and not for each minibatch. Usually, the loss function and metrics are averaged accross the mini-batches in one epoch.\n",
        "\n",
        "In choosing a batch size, a hyperparameter also, when you choose a low batch size(bs) e.g 1, which means the whole dataset per training, then the following happens;\n",
        "1. Your training time is slow and more complicated\n",
        "2. You get to change your parameters only by the number of epochs you have chosen, since you have just 1 batch size per epoch. This is the reason, coneventionally you have to double your learning rate(lr) when you double your batch size (bs). A small batch size means a lot of times to change your parameters,(Although there is a great tendency to get stuck in a local minima), so using a small lr will gradually allow you get to your minima but when you increase the bs, you have lesser number of trainings (& noise trainings) to perform and that small lr might not get you to the minima, so incresing the lr will compensate for the reduced number of training. Read this [article ](https://medium.com/geekculture/how-does-batch-size-impact-your-model-learning-2dd34d9fb1fa) if you want to know more \n",
        "3. Your metrics, gradients and loss are more stable accross each training epoch. In an epoch, you have just one value for your outputs, this means your standard deviation accross your output(s) is null(zero). If you have two bs for instance, the mean of two \"not equal\" outputs are averaged and displayed, since the datapoints for each mini batch is different, so will be the losses and the gradients.\n",
        "\n",
        "However, when you choose a high batch size(bs) e.g 6000, which means one single data point per training, then the following happens;\n",
        "\n",
        "1. If you don't get a GPU `out of memory error`, more like CUDA `out of memory error`, then the process can be parallelized on GPUs and training time subsequently shorter.\n",
        "2. You get to change your parameters 6000 times per epoch, which means you get to adjust your parameters 6,000 * 5 times (30,000 times), where 5 is the number of epochs that you have chosen.\n",
        "3. Number 2 obviously has a downside to it which is that our gradients are very volatile and a high possibility of divergence from the loss minima possible. Also our outputs will be quite unstable, with 6000 outputs being averaged per epochs, which suggests most likely high standard deviation as different images will have different different features. This results into an example of overfitting, with high variance, because our model becomes too sensitive to each data point and data distribution of our data points, which makes the model loose it's generalization ability.\n",
        "\n",
        "In order to use minibatches, I will be using fastai's DataLoader class and the datasets that I created initially, I will also create te valid dataset."
      ],
      "metadata": {
        "id": "pM9iHS8eDKCk"
      }
    },
    {
      "cell_type": "code",
      "source": [
        "#hyperparamaters instantiation\n",
        "bs = 256"
      ],
      "metadata": {
        "id": "eO-BBSn5tcbi"
      },
      "execution_count": 99,
      "outputs": []
    },
    {
      "cell_type": "code",
      "source": [
        "train_dl = DataLoader(train_dset, batch_size=bs)\n",
        "xb, yb = first(train_dl)\n",
        "xb.shape, yb.shape"
      ],
      "metadata": {
        "id": "-VGCz35Lo51U",
        "colab": {
          "base_uri": "https://localhost:8080/"
        },
        "outputId": "a6079e5c-6c29-4a3d-e22d-bbef3f5f0766"
      },
      "execution_count": 101,
      "outputs": [
        {
          "output_type": "execute_result",
          "data": {
            "text/plain": [
              "(torch.Size([256, 784]), torch.Size([256]))"
            ]
          },
          "metadata": {},
          "execution_count": 101
        }
      ]
    },
    {
      "cell_type": "code",
      "source": [
        "#Put valid dset into data loader too\n",
        "valid_dl = DataLoader(valid_dset, batch_size=bs)\n",
        "xv, yv = first(valid_dl)\n",
        "xv.shape, yv.shape"
      ],
      "metadata": {
        "id": "PRY05SDipSeP",
        "colab": {
          "base_uri": "https://localhost:8080/"
        },
        "outputId": "0dee3d36-2d07-4ffd-c695-cfad4d916a65"
      },
      "execution_count": 102,
      "outputs": [
        {
          "output_type": "execute_result",
          "data": {
            "text/plain": [
              "(torch.Size([256, 784]), torch.Size([256]))"
            ]
          },
          "metadata": {},
          "execution_count": 102
        }
      ]
    },
    {
      "cell_type": "code",
      "source": [
        "#Let us define a test_batch from the training set that we will use to try out each step we might want to try\n",
        "batch_x = train_vectors[:7]\n",
        "batch_y = train_target_t[:7]"
      ],
      "metadata": {
        "id": "k7P8CM75t4Hv"
      },
      "execution_count": 103,
      "outputs": []
    },
    {
      "cell_type": "code",
      "source": [
        "#step 1 -- initiate parameter\n",
        "weights, bias = init_param(xb.shape[1])\n",
        "weights.shape, bias"
      ],
      "metadata": {
        "colab": {
          "base_uri": "https://localhost:8080/"
        },
        "id": "CUI9BL6Jwjz2",
        "outputId": "daaa20a3-aa7b-4989-bf2f-88a45dff1cb5"
      },
      "execution_count": 140,
      "outputs": [
        {
          "output_type": "execute_result",
          "data": {
            "text/plain": [
              "(torch.Size([784, 1]), tensor([-1.1861], requires_grad=True))"
            ]
          },
          "metadata": {},
          "execution_count": 140
        }
      ]
    },
    {
      "cell_type": "code",
      "source": [
        "#make predictions -- using raw weights and bias before trying function to see that our result is working well\n",
        "batch_x@weights + bias"
      ],
      "metadata": {
        "colab": {
          "base_uri": "https://localhost:8080/"
        },
        "id": "0m0CLi5Dw-ZA",
        "outputId": "b250d219-55c7-4081-eb70-35a996cb94d4"
      },
      "execution_count": 109,
      "outputs": [
        {
          "output_type": "execute_result",
          "data": {
            "text/plain": [
              "tensor([[11.5014],\n",
              "        [-1.6144],\n",
              "        [-4.9224],\n",
              "        [ 4.4609],\n",
              "        [-8.7745],\n",
              "        [-6.2469],\n",
              "        [ 9.8588]], grad_fn=<AddBackward0>)"
            ]
          },
          "metadata": {},
          "execution_count": 109
        }
      ]
    },
    {
      "cell_type": "code",
      "source": [
        "#Try function that we created\n",
        "make_preds(batch_x) #Step 2"
      ],
      "metadata": {
        "colab": {
          "base_uri": "https://localhost:8080/"
        },
        "id": "YSM5z8JTw_A5",
        "outputId": "e3470a23-1097-45f7-c5d3-c24cd08f1e80"
      },
      "execution_count": 110,
      "outputs": [
        {
          "output_type": "execute_result",
          "data": {
            "text/plain": [
              "tensor([[11.5014],\n",
              "        [-1.6144],\n",
              "        [-4.9224],\n",
              "        [ 4.4609],\n",
              "        [-8.7745],\n",
              "        [-6.2469],\n",
              "        [ 9.8588]], grad_fn=<AddBackward0>)"
            ]
          },
          "metadata": {},
          "execution_count": 110
        }
      ]
    },
    {
      "cell_type": "markdown",
      "source": [
        "We are right on track!"
      ],
      "metadata": {
        "id": "6R3bLq1xyUCz"
      }
    },
    {
      "cell_type": "code",
      "source": [
        "#Loss function that takes raw predictions and obtains a result\n",
        "loss_func(make_preds(batch_x), batch_y) #Step 3"
      ],
      "metadata": {
        "id": "jjGRsJpCoc_X",
        "colab": {
          "base_uri": "https://localhost:8080/"
        },
        "outputId": "249802b6-7a9a-49f3-b329-6c54c22bb86b"
      },
      "execution_count": 112,
      "outputs": [
        {
          "output_type": "execute_result",
          "data": {
            "text/plain": [
              "tensor(0.4520, grad_fn=<MeanBackward0>)"
            ]
          },
          "metadata": {},
          "execution_count": 112
        }
      ]
    },
    {
      "cell_type": "code",
      "source": [
        "#Step 4: calculate gradients\n",
        "def calc_grad(x, y, model):\n",
        "  pred = model(x)\n",
        "  loss = loss_func(pred, y)\n",
        "  #calcluate grad with loss.backward()\n",
        "  loss.backward()\n",
        "#Function combines step 1 to step 4"
      ],
      "metadata": {
        "id": "ZMI8fduZz7qU"
      },
      "execution_count": 191,
      "outputs": []
    },
    {
      "cell_type": "code",
      "source": [
        "#Test on batch_x\n",
        "calc_grad(batch_x, batch_y, make_preds)\n",
        "\n",
        "weights.grad.mean(), bias.grad"
      ],
      "metadata": {
        "colab": {
          "base_uri": "https://localhost:8080/"
        },
        "id": "mRIpEhxH1Otm",
        "outputId": "c183a2c2-e3c0-4096-964f-163df54762cf"
      },
      "execution_count": 115,
      "outputs": [
        {
          "output_type": "execute_result",
          "data": {
            "text/plain": [
              "(tensor(0.0034), tensor([0.0454]))"
            ]
          },
          "metadata": {},
          "execution_count": 115
        }
      ]
    },
    {
      "cell_type": "code",
      "source": [
        "#second call on calc_grad(loss.backward)\n",
        "calc_grad(batch_x, batch_y, make_preds)\n",
        "\n",
        "weights.grad.mean(), bias.grad"
      ],
      "metadata": {
        "colab": {
          "base_uri": "https://localhost:8080/"
        },
        "id": "MzXReB2L3MDm",
        "outputId": "839d2ad4-0ad0-45d1-cf6b-f3d1041c4600"
      },
      "execution_count": 116,
      "outputs": [
        {
          "output_type": "execute_result",
          "data": {
            "text/plain": [
              "(tensor(0.0052), tensor([0.0682]))"
            ]
          },
          "metadata": {},
          "execution_count": 116
        }
      ]
    },
    {
      "cell_type": "markdown",
      "source": [
        "Remember when I talked about using `weights.grad.zero_()` to zero our gradients, it turns out that when we call loss.backward as in the calc_grad function that we used above, the gradient accumulates in the .grad attribute, thus when we are done stepping our weights, it is important that we that we zero our gradients."
      ],
      "metadata": {
        "id": "WMpa4nn42H9f"
      }
    },
    {
      "cell_type": "code",
      "source": [
        "#zero grad before calling loss.backward\n",
        "weights.grad.zero_()\n",
        "bias.grad.zero_()\n",
        "\n",
        "#Print weight and bias grad\n",
        "print(\"Result of zeroing the grads\")\n",
        "print(weights.grad.mean(), bias.grad)\n",
        "print(\" \")\n",
        "\n",
        "#Calc calc_grad\n",
        "calc_grad(batch_x, batch_y, make_preds)\n",
        "\n",
        "#print the grad\n",
        "print(\"Gradients without accumulation\")\n",
        "weights.grad.mean(), bias.grad"
      ],
      "metadata": {
        "id": "tWMDyiq_nUXu",
        "colab": {
          "base_uri": "https://localhost:8080/"
        },
        "outputId": "f6fc30e4-4ab6-4ada-f6af-320823993f3b"
      },
      "execution_count": 121,
      "outputs": [
        {
          "output_type": "stream",
          "name": "stdout",
          "text": [
            "Result of zeroing the grads\n",
            "tensor(0.) tensor([0.])\n",
            " \n",
            "Gradients without accumulation\n"
          ]
        },
        {
          "output_type": "execute_result",
          "data": {
            "text/plain": [
              "(tensor(0.0017), tensor([0.0227]))"
            ]
          },
          "metadata": {},
          "execution_count": 121
        }
      ]
    },
    {
      "cell_type": "markdown",
      "source": [
        "While the loss function returns a smooth function that can be used to iterate over our model and improve the model, the best way to examine the model is to view a metric that is understandable by humans, for classification, it is accuracy, that tells us how well our model is performing. And this is performed over the validation set."
      ],
      "metadata": {
        "id": "q4D5l8RMyP_P"
      }
    },
    {
      "cell_type": "code",
      "source": [
        "#Define function that takes the raw predictions and compares it against a \n",
        "#threshold to determine accuracy\n",
        "\n",
        "def accurate(pred, targets, threshold=0.5):\n",
        "  preds = pred.sigmoid()\n",
        "  acc = (preds>threshold).float() == targets\n",
        "  return acc.float().mean()"
      ],
      "metadata": {
        "id": "F3JiZjhOFl0_"
      },
      "execution_count": 122,
      "outputs": []
    },
    {
      "cell_type": "markdown",
      "source": [
        "This function is going to be able to calculate the accuracy for each batch of validation set when testing each intermediate model(i.e. final model at the end of each epoch). To calculate the  average accuracy accross the validation set for each epoch, we will need another function that uses the accurate function above."
      ],
      "metadata": {
        "id": "jP55Qk285Rkp"
      }
    },
    {
      "cell_type": "code",
      "source": [
        "def validate_epoch(model):\n",
        "  batches_accuracy = torch.stack([accurate((model(xb)), yb) for xb, yb in valid_dl])\n",
        "  return round(batches_accuracy.mean().item(), 4)"
      ],
      "metadata": {
        "id": "avCGB7oh_A0_"
      },
      "execution_count": 134,
      "outputs": []
    },
    {
      "cell_type": "code",
      "source": [
        "params = weights, bias\n",
        "lr = 1."
      ],
      "metadata": {
        "id": "vcoysSXd76E0"
      },
      "execution_count": 145,
      "outputs": []
    },
    {
      "cell_type": "code",
      "source": [
        "#Define function that trains model in one epoch (i.e.) step weights per minibatch in a single epoch\n",
        "def train_epoch(model, lr, params):\n",
        "  for xb, yb in train_dl:\n",
        "    calc_grad(xb, yb, model)\n",
        "    #Update weights and biases\n",
        "    for p in params:\n",
        "      with torch.no_grad():\n",
        "        p -= p.grad * lr\n",
        "        p.grad.zero_()"
      ],
      "metadata": {
        "id": "7HJnheuh6JKv"
      },
      "execution_count": 155,
      "outputs": []
    },
    {
      "cell_type": "code",
      "source": [
        "#Train epoch and validate epoch in a single epoch\n",
        "\n",
        "train_epoch(make_preds, lr=lr, params=params)\n",
        "print(validate_epoch(make_preds))"
      ],
      "metadata": {
        "id": "GvBTPUUYGskf",
        "colab": {
          "base_uri": "https://localhost:8080/"
        },
        "outputId": "219ec39c-8796-480c-e453-3eba09a03901"
      },
      "execution_count": 146,
      "outputs": [
        {
          "output_type": "stream",
          "name": "stdout",
          "text": [
            "0.9007\n"
          ]
        }
      ]
    },
    {
      "cell_type": "code",
      "source": [
        "#Let us repreat this for a couple of times (number of epochs)\n",
        "\n",
        "for i in range(10):\n",
        "  train_epoch(make_preds, lr=lr, params=params)\n",
        "  print(validate_epoch(make_preds), end=\" \")"
      ],
      "metadata": {
        "id": "DRHk4VzK3S04",
        "colab": {
          "base_uri": "https://localhost:8080/"
        },
        "outputId": "79391b12-dc9f-4094-b1e9-12312f312c69"
      },
      "execution_count": 147,
      "outputs": [
        {
          "output_type": "stream",
          "name": "stdout",
          "text": [
            "0.9012 0.9022 0.9022 0.9026 0.9026 0.9026 0.9031 0.9031 0.9031 0.9031 "
          ]
        }
      ]
    },
    {
      "cell_type": "code",
      "source": [
        "#Let us repreat this for a couple of times more (number of epochs)\n",
        "\n",
        "for i in range(10):\n",
        "  train_epoch(make_preds, lr=lr, params=params)\n",
        "  print(validate_epoch(make_preds), end=\" \")"
      ],
      "metadata": {
        "id": "5FQNL6GbxaOq",
        "colab": {
          "base_uri": "https://localhost:8080/"
        },
        "outputId": "ed5fcf58-0374-43ff-aab2-9d77ee65552c"
      },
      "execution_count": 148,
      "outputs": [
        {
          "output_type": "stream",
          "name": "stdout",
          "text": [
            "0.9031 0.9043 0.9049 0.9049 0.9049 0.9049 0.9054 0.9054 0.9054 0.9054 "
          ]
        }
      ]
    },
    {
      "cell_type": "code",
      "source": [
        "#Let us repreat this for a couple of times more (number of epochs)\n",
        "\n",
        "for i in range(10):\n",
        "  train_epoch(make_preds, lr=lr, params=params)\n",
        "  print(validate_epoch(make_preds), end=\" \")"
      ],
      "metadata": {
        "colab": {
          "base_uri": "https://localhost:8080/"
        },
        "id": "7qCr6dJbM_lc",
        "outputId": "ad62b54e-70d9-42d8-8133-f7f40b029652"
      },
      "execution_count": 149,
      "outputs": [
        {
          "output_type": "stream",
          "name": "stdout",
          "text": [
            "0.9054 0.9059 0.9059 0.9063 0.9063 0.9063 0.9063 0.9063 0.9063 0.9068 "
          ]
        }
      ]
    },
    {
      "cell_type": "code",
      "source": [
        "#Let us repreat this for a couple of times more (number of epochs) -- multiple reuns\n",
        "\n",
        "for i in range(20):\n",
        "  train_epoch(make_preds, lr=lr, params=params)\n",
        "  print(validate_epoch(make_preds), end=\" \")"
      ],
      "metadata": {
        "colab": {
          "base_uri": "https://localhost:8080/"
        },
        "id": "dhm30jyVBhQ7",
        "outputId": "f230f156-cb69-41fb-b9c8-930ba5ff8846"
      },
      "execution_count": 163,
      "outputs": [
        {
          "output_type": "stream",
          "name": "stdout",
          "text": [
            "0.9325 0.9325 0.9325 0.9325 0.9325 0.9325 0.9325 0.933 0.933 0.9335 0.9335 0.9335 0.9335 0.9335 0.9335 0.934 0.934 0.934 0.934 0.934 "
          ]
        }
      ]
    },
    {
      "cell_type": "markdown",
      "source": [
        "How do we know when to stop? We stop mostly on two basis, time constraints and before the validation metrics begins to get worse. For instance, it looks as if my current model cannot perform better than 0.9651 (which is 96.5%) and even dropped to 0.9647.\n",
        "(This has changed due to certain reruns and random initiation)\n",
        "\n",
        "And that is the basic idea behind how one deep learning layer. But using fastai already made class and pytorch classes to make a more complex kind of model. A \"deeper\" layer."
      ],
      "metadata": {
        "id": "cRWLICMENAaE"
      }
    },
    {
      "cell_type": "markdown",
      "source": [
        "### The nn.linear class\n",
        "\n",
        "This class can perform step 1 and step 2 of our processes together, i.e. initiating parameters and using the parameters to make prdictions.\n"
      ],
      "metadata": {
        "id": "J32qhFf5KWJG"
      }
    },
    {
      "cell_type": "code",
      "source": [
        "nn.Linear(28*28, 1)"
      ],
      "metadata": {
        "id": "otIDQLecwUQU",
        "colab": {
          "base_uri": "https://localhost:8080/"
        },
        "outputId": "1795f28d-bafa-4730-fb95-1bd0f607365c"
      },
      "execution_count": 173,
      "outputs": [
        {
          "output_type": "execute_result",
          "data": {
            "text/plain": [
              "Linear(in_features=784, out_features=1, bias=True)"
            ]
          },
          "metadata": {},
          "execution_count": 173
        }
      ]
    },
    {
      "cell_type": "code",
      "source": [
        "linear_model = nn.Linear(28*28, 1)"
      ],
      "metadata": {
        "id": "CicVsVqh3mcc"
      },
      "execution_count": 174,
      "outputs": []
    },
    {
      "cell_type": "code",
      "source": [
        "#This class has parameters class that prints both the weights and bias together\n",
        "\n",
        "weights, bias = linear_model.parameters()\n",
        "weights.shape, bias"
      ],
      "metadata": {
        "id": "ZKNDyqWRlR6B",
        "colab": {
          "base_uri": "https://localhost:8080/"
        },
        "outputId": "32ce1b09-2845-4a5c-fd74-bffeab951ecd"
      },
      "execution_count": 175,
      "outputs": [
        {
          "output_type": "execute_result",
          "data": {
            "text/plain": [
              "(torch.Size([1, 784]), Parameter containing:\n",
              " tensor([0.0086], requires_grad=True))"
            ]
          },
          "metadata": {},
          "execution_count": 175
        }
      ]
    },
    {
      "cell_type": "code",
      "source": [
        "#Test on batch_x\n",
        "linear_model(batch_x)"
      ],
      "metadata": {
        "id": "3EgqHd6BJK2v",
        "colab": {
          "base_uri": "https://localhost:8080/"
        },
        "outputId": "77fef6d0-dfd2-4094-f467-ff0414b2f781"
      },
      "execution_count": 182,
      "outputs": [
        {
          "output_type": "execute_result",
          "data": {
            "text/plain": [
              "tensor([[ 0.1530],\n",
              "        [ 0.0823],\n",
              "        [-0.0448],\n",
              "        [ 0.1741],\n",
              "        [-0.3034],\n",
              "        [-0.0041],\n",
              "        [-0.1536]], grad_fn=<AddmmBackward0>)"
            ]
          },
          "metadata": {},
          "execution_count": 182
        }
      ]
    },
    {
      "cell_type": "markdown",
      "source": [
        "### Optimizer Class\n",
        "\n",
        "It turns out that stepping down weights (paramters) with their respective gradients can also be automated by a class called `SGD`, (mathematically known as Stochastic gradient descent) by giving it the parameters and the learning rate."
      ],
      "metadata": {
        "id": "eJqNd1C4QQhS"
      }
    },
    {
      "cell_type": "code",
      "source": [
        "opt = SGD(linear_model.parameters(), lr)"
      ],
      "metadata": {
        "id": "lGHOKscHJK7V"
      },
      "execution_count": 185,
      "outputs": []
    },
    {
      "cell_type": "code",
      "source": [
        "#Let us redefine training an epoch\n",
        "def train_epoch(model):\n",
        "  for xb, yb in train_dl:\n",
        "    calc_grad(xb, yb, model) #remember this performs from step 1 to calculate gradients\n",
        "    opt.step()\n",
        "    opt.zero_grad()"
      ],
      "metadata": {
        "id": "sPgYz9D0JK-F"
      },
      "execution_count": 189,
      "outputs": []
    },
    {
      "cell_type": "code",
      "source": [
        "#Let us train a single epoch and calculate the validate_epoch\n",
        "train_epoch(linear_model)\n",
        "print(validate_epoch(linear_model))"
      ],
      "metadata": {
        "id": "31BKzM6bJLAx",
        "colab": {
          "base_uri": "https://localhost:8080/"
        },
        "outputId": "19fcf2d8-1b9b-4ab9-e879-6d321ea05e31"
      },
      "execution_count": 192,
      "outputs": [
        {
          "output_type": "stream",
          "name": "stdout",
          "text": [
            "0.5039\n"
          ]
        }
      ]
    },
    {
      "cell_type": "code",
      "source": [
        "#Define train model that train model for a number of epochs\n",
        "\n",
        "def train_model(model, epochs):\n",
        "  for _ in range(epochs):\n",
        "    train_epoch(model)\n",
        "    print(validate_epoch(model))"
      ],
      "metadata": {
        "id": "XjkOpGDtJLDV"
      },
      "execution_count": 194,
      "outputs": []
    },
    {
      "cell_type": "code",
      "source": [
        "train_model(linear_model, 20)"
      ],
      "metadata": {
        "id": "5i09giqaJLJv",
        "colab": {
          "base_uri": "https://localhost:8080/"
        },
        "outputId": "01309d84-d16e-4767-8984-cf828cc9144b"
      },
      "execution_count": 195,
      "outputs": [
        {
          "output_type": "stream",
          "name": "stdout",
          "text": [
            "0.5039\n",
            "0.5039\n",
            "0.5039\n",
            "0.5039\n",
            "0.5039\n",
            "0.5039\n",
            "0.5039\n",
            "0.5039\n",
            "0.5039\n",
            "0.5039\n",
            "0.4995\n",
            "0.583\n",
            "0.7208\n",
            "0.8127\n",
            "0.8645\n",
            "0.8885\n",
            "0.907\n",
            "0.9182\n",
            "0.9261\n",
            "0.9334\n"
          ]
        }
      ]
    },
    {
      "cell_type": "code",
      "source": [
        "#Train for some more time\n",
        "train_model(linear_model, 4)"
      ],
      "metadata": {
        "id": "FBiljuFHJLM9",
        "colab": {
          "base_uri": "https://localhost:8080/"
        },
        "outputId": "bb16091c-cb43-4f95-c179-57ce811cf07f"
      },
      "execution_count": 196,
      "outputs": [
        {
          "output_type": "stream",
          "name": "stdout",
          "text": [
            "0.9373\n",
            "0.9427\n",
            "0.9481\n",
            "0.951\n"
          ]
        }
      ]
    },
    {
      "cell_type": "code",
      "source": [
        "#Train for some more time\n",
        "train_model(linear_model, 10)"
      ],
      "metadata": {
        "id": "ImD7eWx9JLPZ",
        "colab": {
          "base_uri": "https://localhost:8080/"
        },
        "outputId": "3fb81218-897f-40ef-c8ff-92172adeac69"
      },
      "execution_count": 197,
      "outputs": [
        {
          "output_type": "stream",
          "name": "stdout",
          "text": [
            "0.9529\n",
            "0.9544\n",
            "0.9559\n",
            "0.9578\n",
            "0.9593\n",
            "0.9602\n",
            "0.9602\n",
            "0.9617\n",
            "0.9622\n",
            "0.9627\n"
          ]
        }
      ]
    },
    {
      "cell_type": "markdown",
      "source": [
        "This classes and ready made class initiation can thus be used with fastai `Learner` Class"
      ],
      "metadata": {
        "id": "JNcWAZ9hXASH"
      }
    },
    {
      "cell_type": "code",
      "source": [
        "dls = DataLoaders(train_dl, valid_dl)"
      ],
      "metadata": {
        "id": "vU0h_DTLZUQp"
      },
      "execution_count": 203,
      "outputs": []
    },
    {
      "cell_type": "code",
      "source": [
        "learn = Learner(dls, nn.Linear(28*28, 1), loss_func=loss_func,\n",
        "        opt_func=SGD metrics=accurate)"
      ],
      "metadata": {
        "id": "3LQpXb3zW-3s"
      },
      "execution_count": 207,
      "outputs": []
    },
    {
      "cell_type": "code",
      "source": [
        "learn.fit(20, lr)"
      ],
      "metadata": {
        "colab": {
          "base_uri": "https://localhost:8080/",
          "height": 676
        },
        "id": "ilb0KK2IZq0X",
        "outputId": "d8a9a983-1faf-42fd-82ab-b221f9e3ca34"
      },
      "execution_count": 210,
      "outputs": [
        {
          "output_type": "display_data",
          "data": {
            "text/plain": [
              "<IPython.core.display.HTML object>"
            ],
            "text/html": [
              "\n",
              "<style>\n",
              "    /* Turns off some styling */\n",
              "    progress {\n",
              "        /* gets rid of default border in Firefox and Opera. */\n",
              "        border: none;\n",
              "        /* Needs to be in here for Safari polyfill so background images work as expected. */\n",
              "        background-size: auto;\n",
              "    }\n",
              "    progress:not([value]), progress:not([value])::-webkit-progress-bar {\n",
              "        background: repeating-linear-gradient(45deg, #7e7e7e, #7e7e7e 10px, #5c5c5c 10px, #5c5c5c 20px);\n",
              "    }\n",
              "    .progress-bar-interrupted, .progress-bar-interrupted::-webkit-progress-bar {\n",
              "        background: #F44336;\n",
              "    }\n",
              "</style>\n"
            ]
          },
          "metadata": {}
        },
        {
          "output_type": "display_data",
          "data": {
            "text/plain": [
              "<IPython.core.display.HTML object>"
            ],
            "text/html": [
              "<table border=\"1\" class=\"dataframe\">\n",
              "  <thead>\n",
              "    <tr style=\"text-align: left;\">\n",
              "      <th>epoch</th>\n",
              "      <th>train_loss</th>\n",
              "      <th>valid_loss</th>\n",
              "      <th>accurate</th>\n",
              "      <th>time</th>\n",
              "    </tr>\n",
              "  </thead>\n",
              "  <tbody>\n",
              "    <tr>\n",
              "      <td>0</td>\n",
              "      <td>0.619782</td>\n",
              "      <td>0.479820</td>\n",
              "      <td>0.518593</td>\n",
              "      <td>00:00</td>\n",
              "    </tr>\n",
              "    <tr>\n",
              "      <td>1</td>\n",
              "      <td>0.368863</td>\n",
              "      <td>0.483677</td>\n",
              "      <td>0.485427</td>\n",
              "      <td>00:00</td>\n",
              "    </tr>\n",
              "    <tr>\n",
              "      <td>2</td>\n",
              "      <td>0.168681</td>\n",
              "      <td>0.373582</td>\n",
              "      <td>0.600597</td>\n",
              "      <td>00:00</td>\n",
              "    </tr>\n",
              "    <tr>\n",
              "      <td>3</td>\n",
              "      <td>0.088863</td>\n",
              "      <td>0.269475</td>\n",
              "      <td>0.734328</td>\n",
              "      <td>00:00</td>\n",
              "    </tr>\n",
              "    <tr>\n",
              "      <td>4</td>\n",
              "      <td>0.055938</td>\n",
              "      <td>0.190396</td>\n",
              "      <td>0.824372</td>\n",
              "      <td>00:00</td>\n",
              "    </tr>\n",
              "    <tr>\n",
              "      <td>5</td>\n",
              "      <td>0.041622</td>\n",
              "      <td>0.147260</td>\n",
              "      <td>0.871106</td>\n",
              "      <td>00:00</td>\n",
              "    </tr>\n",
              "    <tr>\n",
              "      <td>6</td>\n",
              "      <td>0.035190</td>\n",
              "      <td>0.122131</td>\n",
              "      <td>0.891237</td>\n",
              "      <td>00:00</td>\n",
              "    </tr>\n",
              "    <tr>\n",
              "      <td>7</td>\n",
              "      <td>0.032148</td>\n",
              "      <td>0.105664</td>\n",
              "      <td>0.906313</td>\n",
              "      <td>00:00</td>\n",
              "    </tr>\n",
              "    <tr>\n",
              "      <td>8</td>\n",
              "      <td>0.030580</td>\n",
              "      <td>0.094019</td>\n",
              "      <td>0.916363</td>\n",
              "      <td>00:00</td>\n",
              "    </tr>\n",
              "    <tr>\n",
              "      <td>9</td>\n",
              "      <td>0.029632</td>\n",
              "      <td>0.085311</td>\n",
              "      <td>0.923932</td>\n",
              "      <td>00:00</td>\n",
              "    </tr>\n",
              "    <tr>\n",
              "      <td>10</td>\n",
              "      <td>0.028945</td>\n",
              "      <td>0.078517</td>\n",
              "      <td>0.932475</td>\n",
              "      <td>00:00</td>\n",
              "    </tr>\n",
              "    <tr>\n",
              "      <td>11</td>\n",
              "      <td>0.028384</td>\n",
              "      <td>0.073044</td>\n",
              "      <td>0.937500</td>\n",
              "      <td>00:00</td>\n",
              "    </tr>\n",
              "    <tr>\n",
              "      <td>12</td>\n",
              "      <td>0.027906</td>\n",
              "      <td>0.068530</td>\n",
              "      <td>0.943028</td>\n",
              "      <td>00:00</td>\n",
              "    </tr>\n",
              "    <tr>\n",
              "      <td>13</td>\n",
              "      <td>0.027495</td>\n",
              "      <td>0.064742</td>\n",
              "      <td>0.946545</td>\n",
              "      <td>00:00</td>\n",
              "    </tr>\n",
              "    <tr>\n",
              "      <td>14</td>\n",
              "      <td>0.027138</td>\n",
              "      <td>0.061517</td>\n",
              "      <td>0.950063</td>\n",
              "      <td>00:00</td>\n",
              "    </tr>\n",
              "    <tr>\n",
              "      <td>15</td>\n",
              "      <td>0.026827</td>\n",
              "      <td>0.058740</td>\n",
              "      <td>0.952575</td>\n",
              "      <td>00:00</td>\n",
              "    </tr>\n",
              "    <tr>\n",
              "      <td>16</td>\n",
              "      <td>0.026551</td>\n",
              "      <td>0.056323</td>\n",
              "      <td>0.954083</td>\n",
              "      <td>00:00</td>\n",
              "    </tr>\n",
              "    <tr>\n",
              "      <td>17</td>\n",
              "      <td>0.026300</td>\n",
              "      <td>0.054199</td>\n",
              "      <td>0.955057</td>\n",
              "      <td>00:00</td>\n",
              "    </tr>\n",
              "    <tr>\n",
              "      <td>18</td>\n",
              "      <td>0.026069</td>\n",
              "      <td>0.052318</td>\n",
              "      <td>0.956564</td>\n",
              "      <td>00:00</td>\n",
              "    </tr>\n",
              "    <tr>\n",
              "      <td>19</td>\n",
              "      <td>0.025852</td>\n",
              "      <td>0.050642</td>\n",
              "      <td>0.958574</td>\n",
              "      <td>00:00</td>\n",
              "    </tr>\n",
              "  </tbody>\n",
              "</table>"
            ]
          },
          "metadata": {}
        }
      ]
    },
    {
      "cell_type": "markdown",
      "source": [
        "So a basic idea is that parameters instantiation(it lies in architecture instantiation) and parameter control (i.e. calculating/instantiating gradients(not loss) i.e. param.grad, stepping the parameters by its gradients, zeroing the gradients and using them to make raw predictions) can all be fully automated, whereas the loss function(that is used to calculate the gradients), the metric and some other information can be less automated and depend on our choice.\n",
        "\n",
        "Note: Fully automated does not mean it can not be altered, just means that it can be best left as a low level process."
      ],
      "metadata": {
        "id": "W5yCpKwZX6qj"
      }
    },
    {
      "cell_type": "markdown",
      "source": [
        "### Training Deeper Layers\n",
        "\n",
        "We already know that the model making the prediction is a simple linear equation (in case of make_preds and linear_model). They are both matrix multiplication that uses the simple linear equation of:\n",
        "\n",
        "$$ y = mx_1 + b $$\n",
        "\n",
        "If we add more layers, say\n",
        "$$ y = mx_2 + b $$\n",
        "\n",
        " Where $x_2$ is the output from layer 1, the final result that we will obtain turns out to still be a linear equation of some sort (that will have used only $x_1$). In order to make each layer perform a better work and sort of independednt work, the equation needs to be disjointed, so that each layer can contribute in significant ways to the model. From this problem came the solution called `Rectified Linear Units` a.k.a ReLU.\n",
        "\n",
        " What ReLu does is very simple. It takes a value and if the value is less than 0, it converts it to 0. So in a matrix output for instance all negative numbers are converted to 0. This applied to all matrix output except for the final output."
      ],
      "metadata": {
        "id": "kkaFtQYmWbaa"
      }
    },
    {
      "cell_type": "code",
      "source": [
        "#See the result of y\n",
        "y = torch.randn(10)\n",
        "y"
      ],
      "metadata": {
        "id": "0QRTQgyEJLU7",
        "colab": {
          "base_uri": "https://localhost:8080/"
        },
        "outputId": "107afcba-b778-41b3-f1b3-4651ff6b1534"
      },
      "execution_count": 218,
      "outputs": [
        {
          "output_type": "execute_result",
          "data": {
            "text/plain": [
              "tensor([-0.5728,  0.6545,  0.3371,  1.3475,  0.0863,  0.8933,  1.1834,  0.6913, -0.7166,  0.3890])"
            ]
          },
          "metadata": {},
          "execution_count": 218
        }
      ]
    },
    {
      "cell_type": "code",
      "source": [
        "#Apply ReLu to y\n",
        "F.relu(y)"
      ],
      "metadata": {
        "id": "lz5B8heDJLXx",
        "colab": {
          "base_uri": "https://localhost:8080/"
        },
        "outputId": "3fae7039-8e8d-4345-c33f-365f78e04a3b"
      },
      "execution_count": 219,
      "outputs": [
        {
          "output_type": "execute_result",
          "data": {
            "text/plain": [
              "tensor([0.0000, 0.6545, 0.3371, 1.3475, 0.0863, 0.8933, 1.1834, 0.6913, 0.0000, 0.3890])"
            ]
          },
          "metadata": {},
          "execution_count": 219
        }
      ]
    },
    {
      "cell_type": "code",
      "source": [
        "#Develop a three layer neural net architecture\n",
        "\n",
        "simple_net = nn.Sequential(\n",
        "    nn.Linear(28*28, 40),\n",
        "    nn.ReLU(),\n",
        "    nn.Linear(40, 20),\n",
        "    nn.ReLU(),\n",
        "    nn.Linear(20, 1)\n",
        ")"
      ],
      "metadata": {
        "id": "GfViIuhBJLa3"
      },
      "execution_count": 222,
      "outputs": []
    },
    {
      "cell_type": "code",
      "source": [
        "learn = Learner(dls, simple_net, opt_func=SGD, loss_func=loss_func, metrics=accurate)"
      ],
      "metadata": {
        "id": "JS3zHpwiJLd6"
      },
      "execution_count": 224,
      "outputs": []
    },
    {
      "cell_type": "code",
      "source": [
        "learn.fit(20, lr)"
      ],
      "metadata": {
        "id": "M6XfzL9PJLhB",
        "colab": {
          "base_uri": "https://localhost:8080/",
          "height": 676
        },
        "outputId": "8b1617a5-eb4d-4da4-f6e5-6f941951846d"
      },
      "execution_count": 225,
      "outputs": [
        {
          "output_type": "display_data",
          "data": {
            "text/plain": [
              "<IPython.core.display.HTML object>"
            ],
            "text/html": [
              "\n",
              "<style>\n",
              "    /* Turns off some styling */\n",
              "    progress {\n",
              "        /* gets rid of default border in Firefox and Opera. */\n",
              "        border: none;\n",
              "        /* Needs to be in here for Safari polyfill so background images work as expected. */\n",
              "        background-size: auto;\n",
              "    }\n",
              "    progress:not([value]), progress:not([value])::-webkit-progress-bar {\n",
              "        background: repeating-linear-gradient(45deg, #7e7e7e, #7e7e7e 10px, #5c5c5c 10px, #5c5c5c 20px);\n",
              "    }\n",
              "    .progress-bar-interrupted, .progress-bar-interrupted::-webkit-progress-bar {\n",
              "        background: #F44336;\n",
              "    }\n",
              "</style>\n"
            ]
          },
          "metadata": {}
        },
        {
          "output_type": "display_data",
          "data": {
            "text/plain": [
              "<IPython.core.display.HTML object>"
            ],
            "text/html": [
              "<table border=\"1\" class=\"dataframe\">\n",
              "  <thead>\n",
              "    <tr style=\"text-align: left;\">\n",
              "      <th>epoch</th>\n",
              "      <th>train_loss</th>\n",
              "      <th>valid_loss</th>\n",
              "      <th>accurate</th>\n",
              "      <th>time</th>\n",
              "    </tr>\n",
              "  </thead>\n",
              "  <tbody>\n",
              "    <tr>\n",
              "      <td>0</td>\n",
              "      <td>0.445198</td>\n",
              "      <td>0.516468</td>\n",
              "      <td>0.481407</td>\n",
              "      <td>00:00</td>\n",
              "    </tr>\n",
              "    <tr>\n",
              "      <td>1</td>\n",
              "      <td>0.266118</td>\n",
              "      <td>0.503168</td>\n",
              "      <td>0.485427</td>\n",
              "      <td>00:00</td>\n",
              "    </tr>\n",
              "    <tr>\n",
              "      <td>2</td>\n",
              "      <td>0.135306</td>\n",
              "      <td>0.350189</td>\n",
              "      <td>0.650879</td>\n",
              "      <td>00:00</td>\n",
              "    </tr>\n",
              "    <tr>\n",
              "      <td>3</td>\n",
              "      <td>0.071045</td>\n",
              "      <td>0.237844</td>\n",
              "      <td>0.765986</td>\n",
              "      <td>00:00</td>\n",
              "    </tr>\n",
              "    <tr>\n",
              "      <td>4</td>\n",
              "      <td>0.044181</td>\n",
              "      <td>0.158173</td>\n",
              "      <td>0.847487</td>\n",
              "      <td>00:00</td>\n",
              "    </tr>\n",
              "    <tr>\n",
              "      <td>5</td>\n",
              "      <td>0.032480</td>\n",
              "      <td>0.124039</td>\n",
              "      <td>0.879680</td>\n",
              "      <td>00:00</td>\n",
              "    </tr>\n",
              "    <tr>\n",
              "      <td>6</td>\n",
              "      <td>0.026261</td>\n",
              "      <td>0.106693</td>\n",
              "      <td>0.895760</td>\n",
              "      <td>00:00</td>\n",
              "    </tr>\n",
              "    <tr>\n",
              "      <td>7</td>\n",
              "      <td>0.023198</td>\n",
              "      <td>0.093723</td>\n",
              "      <td>0.909830</td>\n",
              "      <td>00:00</td>\n",
              "    </tr>\n",
              "    <tr>\n",
              "      <td>8</td>\n",
              "      <td>0.021653</td>\n",
              "      <td>0.085250</td>\n",
              "      <td>0.916363</td>\n",
              "      <td>00:00</td>\n",
              "    </tr>\n",
              "    <tr>\n",
              "      <td>9</td>\n",
              "      <td>0.020876</td>\n",
              "      <td>0.078474</td>\n",
              "      <td>0.922896</td>\n",
              "      <td>00:00</td>\n",
              "    </tr>\n",
              "    <tr>\n",
              "      <td>10</td>\n",
              "      <td>0.020203</td>\n",
              "      <td>0.073072</td>\n",
              "      <td>0.929428</td>\n",
              "      <td>00:00</td>\n",
              "    </tr>\n",
              "    <tr>\n",
              "      <td>11</td>\n",
              "      <td>0.019610</td>\n",
              "      <td>0.068250</td>\n",
              "      <td>0.933982</td>\n",
              "      <td>00:00</td>\n",
              "    </tr>\n",
              "    <tr>\n",
              "      <td>12</td>\n",
              "      <td>0.019136</td>\n",
              "      <td>0.064343</td>\n",
              "      <td>0.935490</td>\n",
              "      <td>00:00</td>\n",
              "    </tr>\n",
              "    <tr>\n",
              "      <td>13</td>\n",
              "      <td>0.018577</td>\n",
              "      <td>0.060719</td>\n",
              "      <td>0.940013</td>\n",
              "      <td>00:00</td>\n",
              "    </tr>\n",
              "    <tr>\n",
              "      <td>14</td>\n",
              "      <td>0.017983</td>\n",
              "      <td>0.056904</td>\n",
              "      <td>0.945006</td>\n",
              "      <td>00:00</td>\n",
              "    </tr>\n",
              "    <tr>\n",
              "      <td>15</td>\n",
              "      <td>0.017606</td>\n",
              "      <td>0.053434</td>\n",
              "      <td>0.948524</td>\n",
              "      <td>00:00</td>\n",
              "    </tr>\n",
              "    <tr>\n",
              "      <td>16</td>\n",
              "      <td>0.017308</td>\n",
              "      <td>0.050295</td>\n",
              "      <td>0.951036</td>\n",
              "      <td>00:00</td>\n",
              "    </tr>\n",
              "    <tr>\n",
              "      <td>17</td>\n",
              "      <td>0.017168</td>\n",
              "      <td>0.048580</td>\n",
              "      <td>0.952544</td>\n",
              "      <td>00:00</td>\n",
              "    </tr>\n",
              "    <tr>\n",
              "      <td>18</td>\n",
              "      <td>0.016964</td>\n",
              "      <td>0.046670</td>\n",
              "      <td>0.953549</td>\n",
              "      <td>00:00</td>\n",
              "    </tr>\n",
              "    <tr>\n",
              "      <td>19</td>\n",
              "      <td>0.016703</td>\n",
              "      <td>0.046576</td>\n",
              "      <td>0.954020</td>\n",
              "      <td>00:00</td>\n",
              "    </tr>\n",
              "  </tbody>\n",
              "</table>"
            ]
          },
          "metadata": {}
        }
      ]
    },
    {
      "cell_type": "markdown",
      "source": [
        "AND THAT IS HOW WE BUILD A NEURAL NET."
      ],
      "metadata": {
        "id": "M3i0r2iqjg5g"
      }
    },
    {
      "cell_type": "code",
      "source": [],
      "metadata": {
        "id": "4BITvAgRJLnf"
      },
      "execution_count": null,
      "outputs": []
    },
    {
      "cell_type": "code",
      "source": [],
      "metadata": {
        "id": "a29jkPiYJL87"
      },
      "execution_count": null,
      "outputs": []
    },
    {
      "cell_type": "code",
      "source": [],
      "metadata": {
        "id": "YaK2YhiXJMAP"
      },
      "execution_count": null,
      "outputs": []
    },
    {
      "cell_type": "code",
      "source": [],
      "metadata": {
        "id": "xqtCwQBNJMEH"
      },
      "execution_count": null,
      "outputs": []
    },
    {
      "cell_type": "code",
      "source": [],
      "metadata": {
        "id": "24KvfX-8JMJ5"
      },
      "execution_count": null,
      "outputs": []
    },
    {
      "cell_type": "code",
      "source": [],
      "metadata": {
        "id": "ZDXhUea-JMNy"
      },
      "execution_count": null,
      "outputs": []
    },
    {
      "cell_type": "code",
      "source": [],
      "metadata": {
        "id": "u61K_mNKJMRD"
      },
      "execution_count": null,
      "outputs": []
    },
    {
      "cell_type": "code",
      "source": [],
      "metadata": {
        "id": "MCwfjSBtJMUc"
      },
      "execution_count": null,
      "outputs": []
    },
    {
      "cell_type": "code",
      "source": [],
      "metadata": {
        "id": "Tv_IkMF5JMXl"
      },
      "execution_count": null,
      "outputs": []
    },
    {
      "cell_type": "code",
      "source": [],
      "metadata": {
        "id": "zXEI03VoJMbJ"
      },
      "execution_count": null,
      "outputs": []
    }
  ]
}